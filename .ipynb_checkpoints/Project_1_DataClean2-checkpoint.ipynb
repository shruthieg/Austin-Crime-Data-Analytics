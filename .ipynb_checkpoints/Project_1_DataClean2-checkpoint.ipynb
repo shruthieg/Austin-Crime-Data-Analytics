{
 "cells": [
  {
   "cell_type": "code",
   "execution_count": 1,
   "metadata": {},
   "outputs": [],
   "source": [
    "# Dependencies and Setup\n",
    "import os\n",
    "import pandas as pd\n",
    "import numpy as np\n",
    "import matplotlib.pyplot as plt\n",
    "\n",
    "# Raw data file\n",
    "file_2014 = os.path.join('austin_crime.csv')\n",
    "file_2015 = os.path.join('Annual_Crime_Dataset_2015.csv')\n",
    "file_2016 = os.path.join('2016_Annual_Crime_Data.csv')\n",
    "\n",
    "# Read crime report files and store into pandas data frame\n",
    "crime_data_2014 = pd.read_csv(file_2014)\n",
    "crime_data_2015 = pd.read_csv(file_2015)\n",
    "crime_data_2016 = pd.read_csv(file_2016)"
   ]
  },
  {
   "cell_type": "code",
   "execution_count": 2,
   "metadata": {},
   "outputs": [
    {
     "name": "stdout",
     "output_type": "stream",
     "text": [
      "159464\n",
      "-------------\n",
      "38573\n",
      "-------------\n",
      "37461\n"
     ]
    }
   ],
   "source": [
    "# Check original length of csv file rows\n",
    "print(len(crime_data_2014))\n",
    "print(\"-------------\")\n",
    "print(len(crime_data_2015))\n",
    "print(\"-------------\")\n",
    "print(len(crime_data_2016))"
   ]
  },
  {
   "cell_type": "code",
   "execution_count": 3,
   "metadata": {},
   "outputs": [
    {
     "data": {
      "text/html": [
       "<div>\n",
       "<style scoped>\n",
       "    .dataframe tbody tr th:only-of-type {\n",
       "        vertical-align: middle;\n",
       "    }\n",
       "\n",
       "    .dataframe tbody tr th {\n",
       "        vertical-align: top;\n",
       "    }\n",
       "\n",
       "    .dataframe thead th {\n",
       "        text-align: right;\n",
       "    }\n",
       "</style>\n",
       "<table border=\"1\" class=\"dataframe\">\n",
       "  <thead>\n",
       "    <tr style=\"text-align: right;\">\n",
       "      <th></th>\n",
       "      <th>primary_type</th>\n",
       "      <th>timestamp</th>\n",
       "      <th>clearance_status</th>\n",
       "      <th>council_district_code</th>\n",
       "      <th>x_coordinate</th>\n",
       "      <th>y_coordinate</th>\n",
       "      <th>year</th>\n",
       "    </tr>\n",
       "  </thead>\n",
       "  <tbody>\n",
       "    <tr>\n",
       "      <th>4</th>\n",
       "      <td>Theft: Shoplifting</td>\n",
       "      <td>2014-04-04 00:00:00</td>\n",
       "      <td>Cleared by Arrest</td>\n",
       "      <td>9.0</td>\n",
       "      <td>3121345.0</td>\n",
       "      <td>10082705.0</td>\n",
       "      <td>2014.0</td>\n",
       "    </tr>\n",
       "    <tr>\n",
       "      <th>9</th>\n",
       "      <td>Auto Theft</td>\n",
       "      <td>2014-04-04 00:00:00</td>\n",
       "      <td>Not cleared</td>\n",
       "      <td>1.0</td>\n",
       "      <td>3118304.0</td>\n",
       "      <td>10072414.0</td>\n",
       "      <td>2014.0</td>\n",
       "    </tr>\n",
       "    <tr>\n",
       "      <th>14</th>\n",
       "      <td>Theft: All Other Larceny</td>\n",
       "      <td>2014-05-08 00:00:00</td>\n",
       "      <td>Not cleared</td>\n",
       "      <td>2.0</td>\n",
       "      <td>3125886.0</td>\n",
       "      <td>10047276.0</td>\n",
       "      <td>2014.0</td>\n",
       "    </tr>\n",
       "    <tr>\n",
       "      <th>17</th>\n",
       "      <td>Auto Theft</td>\n",
       "      <td>2014-12-18 00:00:00</td>\n",
       "      <td>Not cleared</td>\n",
       "      <td>1.0</td>\n",
       "      <td>3125976.0</td>\n",
       "      <td>10072207.0</td>\n",
       "      <td>2014.0</td>\n",
       "    </tr>\n",
       "    <tr>\n",
       "      <th>20</th>\n",
       "      <td>Theft: All Other Larceny</td>\n",
       "      <td>2014-04-16 00:00:00</td>\n",
       "      <td>Not cleared</td>\n",
       "      <td>7.0</td>\n",
       "      <td>3117183.0</td>\n",
       "      <td>10103211.0</td>\n",
       "      <td>2014.0</td>\n",
       "    </tr>\n",
       "  </tbody>\n",
       "</table>\n",
       "</div>"
      ],
      "text/plain": [
       "                primary_type            timestamp   clearance_status  \\\n",
       "4         Theft: Shoplifting  2014-04-04 00:00:00  Cleared by Arrest   \n",
       "9                 Auto Theft  2014-04-04 00:00:00        Not cleared   \n",
       "14  Theft: All Other Larceny  2014-05-08 00:00:00        Not cleared   \n",
       "17                Auto Theft  2014-12-18 00:00:00        Not cleared   \n",
       "20  Theft: All Other Larceny  2014-04-16 00:00:00        Not cleared   \n",
       "\n",
       "    council_district_code  x_coordinate  y_coordinate    year  \n",
       "4                     9.0     3121345.0    10082705.0  2014.0  \n",
       "9                     1.0     3118304.0    10072414.0  2014.0  \n",
       "14                    2.0     3125886.0    10047276.0  2014.0  \n",
       "17                    1.0     3125976.0    10072207.0  2014.0  \n",
       "20                    7.0     3117183.0    10103211.0  2014.0  "
      ]
     },
     "execution_count": 3,
     "metadata": {},
     "output_type": "execute_result"
    }
   ],
   "source": [
    "# Turn 2014 crime csv into dataframe and drop unneccessary columns\n",
    "crime_data_2014 = pd.DataFrame(crime_data_2014)\n",
    "crime_data_2014 = crime_data_2014.drop(\"latitude\",axis=1)\n",
    "crime_data_2014 = crime_data_2014.drop(\"location\",axis=1)\n",
    "crime_data_2014 = crime_data_2014.drop(\"longitude\",axis=1)\n",
    "crime_data_2014 = crime_data_2014.drop(\"census_tract\",axis=1)\n",
    "crime_data_2014 = crime_data_2014.drop(\"unique_key\",axis=1)\n",
    "crime_data_2014 = crime_data_2014.drop(\"zipcode\",axis=1)\n",
    "crime_data_2014 = crime_data_2014.drop(\"clearance_date\",axis=1)\n",
    "crime_data_2014 = crime_data_2014.drop(\"district\",axis=1)\n",
    "crime_data_2014 = crime_data_2014.drop(\"description\",axis=1)\n",
    "crime_data_2014 = crime_data_2014.drop(\"location_description\",axis=1)\n",
    "crime_data_2014 = crime_data_2014.drop(\"address\",axis=1)\n",
    "\n",
    "# Drop all rows containing no values\n",
    "crime_data_2014 = crime_data_2014.dropna()\n",
    "\n",
    "# Extract only 2014 data\n",
    "crime_data_2014 = crime_data_2014.drop(crime_data_2014[crime_data_2014.year == 2015.0].index)\n",
    "\n",
    "# Reorder columns\n",
    "crime_data_2014 = crime_data_2014[['primary_type', 'timestamp', 'clearance_status', 'council_district_code', 'x_coordinate', 'y_coordinate', 'year']]\n",
    "crime_data_2014.head()"
   ]
  },
  {
   "cell_type": "code",
   "execution_count": 4,
   "metadata": {},
   "outputs": [
    {
     "data": {
      "text/html": [
       "<div>\n",
       "<style scoped>\n",
       "    .dataframe tbody tr th:only-of-type {\n",
       "        vertical-align: middle;\n",
       "    }\n",
       "\n",
       "    .dataframe tbody tr th {\n",
       "        vertical-align: top;\n",
       "    }\n",
       "\n",
       "    .dataframe thead th {\n",
       "        text-align: right;\n",
       "    }\n",
       "</style>\n",
       "<table border=\"1\" class=\"dataframe\">\n",
       "  <thead>\n",
       "    <tr style=\"text-align: right;\">\n",
       "      <th></th>\n",
       "      <th>primary_type</th>\n",
       "      <th>timestamp</th>\n",
       "      <th>clearance_status</th>\n",
       "      <th>council_district_code</th>\n",
       "      <th>x_coordinate</th>\n",
       "      <th>y_coordinate</th>\n",
       "      <th>year</th>\n",
       "    </tr>\n",
       "  </thead>\n",
       "  <tbody>\n",
       "    <tr>\n",
       "      <th>4</th>\n",
       "      <td>Theft: Shoplifting</td>\n",
       "      <td>04</td>\n",
       "      <td>Cleared by Arrest</td>\n",
       "      <td>9.0</td>\n",
       "      <td>3121345.0</td>\n",
       "      <td>10082705.0</td>\n",
       "      <td>2014.0</td>\n",
       "    </tr>\n",
       "    <tr>\n",
       "      <th>9</th>\n",
       "      <td>Auto Theft</td>\n",
       "      <td>04</td>\n",
       "      <td>Not cleared</td>\n",
       "      <td>1.0</td>\n",
       "      <td>3118304.0</td>\n",
       "      <td>10072414.0</td>\n",
       "      <td>2014.0</td>\n",
       "    </tr>\n",
       "    <tr>\n",
       "      <th>14</th>\n",
       "      <td>Theft: All Other Larceny</td>\n",
       "      <td>05</td>\n",
       "      <td>Not cleared</td>\n",
       "      <td>2.0</td>\n",
       "      <td>3125886.0</td>\n",
       "      <td>10047276.0</td>\n",
       "      <td>2014.0</td>\n",
       "    </tr>\n",
       "    <tr>\n",
       "      <th>17</th>\n",
       "      <td>Auto Theft</td>\n",
       "      <td>12</td>\n",
       "      <td>Not cleared</td>\n",
       "      <td>1.0</td>\n",
       "      <td>3125976.0</td>\n",
       "      <td>10072207.0</td>\n",
       "      <td>2014.0</td>\n",
       "    </tr>\n",
       "    <tr>\n",
       "      <th>20</th>\n",
       "      <td>Theft: All Other Larceny</td>\n",
       "      <td>04</td>\n",
       "      <td>Not cleared</td>\n",
       "      <td>7.0</td>\n",
       "      <td>3117183.0</td>\n",
       "      <td>10103211.0</td>\n",
       "      <td>2014.0</td>\n",
       "    </tr>\n",
       "  </tbody>\n",
       "</table>\n",
       "</div>"
      ],
      "text/plain": [
       "                primary_type timestamp   clearance_status  \\\n",
       "4         Theft: Shoplifting        04  Cleared by Arrest   \n",
       "9                 Auto Theft        04        Not cleared   \n",
       "14  Theft: All Other Larceny        05        Not cleared   \n",
       "17                Auto Theft        12        Not cleared   \n",
       "20  Theft: All Other Larceny        04        Not cleared   \n",
       "\n",
       "    council_district_code  x_coordinate  y_coordinate    year  \n",
       "4                     9.0     3121345.0    10082705.0  2014.0  \n",
       "9                     1.0     3118304.0    10072414.0  2014.0  \n",
       "14                    2.0     3125886.0    10047276.0  2014.0  \n",
       "17                    1.0     3125976.0    10072207.0  2014.0  \n",
       "20                    7.0     3117183.0    10103211.0  2014.0  "
      ]
     },
     "execution_count": 4,
     "metadata": {},
     "output_type": "execute_result"
    }
   ],
   "source": [
    "# Edit timestamp column to show only month\n",
    "crime_data_2014['timestamp'] = crime_data_2014['timestamp'].map(lambda x: str(x)[5:7])\n",
    "crime_data_2014.head()"
   ]
  },
  {
   "cell_type": "code",
   "execution_count": 5,
   "metadata": {},
   "outputs": [
    {
     "data": {
      "text/html": [
       "<div>\n",
       "<style scoped>\n",
       "    .dataframe tbody tr th:only-of-type {\n",
       "        vertical-align: middle;\n",
       "    }\n",
       "\n",
       "    .dataframe tbody tr th {\n",
       "        vertical-align: top;\n",
       "    }\n",
       "\n",
       "    .dataframe thead th {\n",
       "        text-align: right;\n",
       "    }\n",
       "</style>\n",
       "<table border=\"1\" class=\"dataframe\">\n",
       "  <thead>\n",
       "    <tr style=\"text-align: right;\">\n",
       "      <th></th>\n",
       "      <th>primary_type</th>\n",
       "      <th>timestamp</th>\n",
       "      <th>clearance_status</th>\n",
       "      <th>council_district_code</th>\n",
       "      <th>x_coordinate</th>\n",
       "      <th>y_coordinate</th>\n",
       "      <th>year</th>\n",
       "    </tr>\n",
       "  </thead>\n",
       "  <tbody>\n",
       "    <tr>\n",
       "      <th>4</th>\n",
       "      <td>Theft: Shoplifting</td>\n",
       "      <td>04</td>\n",
       "      <td>C</td>\n",
       "      <td>9.0</td>\n",
       "      <td>3121345.0</td>\n",
       "      <td>10082705.0</td>\n",
       "      <td>2014.0</td>\n",
       "    </tr>\n",
       "    <tr>\n",
       "      <th>9</th>\n",
       "      <td>Auto Theft</td>\n",
       "      <td>04</td>\n",
       "      <td>N</td>\n",
       "      <td>1.0</td>\n",
       "      <td>3118304.0</td>\n",
       "      <td>10072414.0</td>\n",
       "      <td>2014.0</td>\n",
       "    </tr>\n",
       "    <tr>\n",
       "      <th>14</th>\n",
       "      <td>Theft: All Other Larceny</td>\n",
       "      <td>05</td>\n",
       "      <td>N</td>\n",
       "      <td>2.0</td>\n",
       "      <td>3125886.0</td>\n",
       "      <td>10047276.0</td>\n",
       "      <td>2014.0</td>\n",
       "    </tr>\n",
       "    <tr>\n",
       "      <th>17</th>\n",
       "      <td>Auto Theft</td>\n",
       "      <td>12</td>\n",
       "      <td>N</td>\n",
       "      <td>1.0</td>\n",
       "      <td>3125976.0</td>\n",
       "      <td>10072207.0</td>\n",
       "      <td>2014.0</td>\n",
       "    </tr>\n",
       "    <tr>\n",
       "      <th>20</th>\n",
       "      <td>Theft: All Other Larceny</td>\n",
       "      <td>04</td>\n",
       "      <td>N</td>\n",
       "      <td>7.0</td>\n",
       "      <td>3117183.0</td>\n",
       "      <td>10103211.0</td>\n",
       "      <td>2014.0</td>\n",
       "    </tr>\n",
       "  </tbody>\n",
       "</table>\n",
       "</div>"
      ],
      "text/plain": [
       "                primary_type timestamp clearance_status  \\\n",
       "4         Theft: Shoplifting        04                C   \n",
       "9                 Auto Theft        04                N   \n",
       "14  Theft: All Other Larceny        05                N   \n",
       "17                Auto Theft        12                N   \n",
       "20  Theft: All Other Larceny        04                N   \n",
       "\n",
       "    council_district_code  x_coordinate  y_coordinate    year  \n",
       "4                     9.0     3121345.0    10082705.0  2014.0  \n",
       "9                     1.0     3118304.0    10072414.0  2014.0  \n",
       "14                    2.0     3125886.0    10047276.0  2014.0  \n",
       "17                    1.0     3125976.0    10072207.0  2014.0  \n",
       "20                    7.0     3117183.0    10103211.0  2014.0  "
      ]
     },
     "execution_count": 5,
     "metadata": {},
     "output_type": "execute_result"
    }
   ],
   "source": [
    "# Edit clearance status to display only first character\n",
    "crime_data_2014['clearance_status'] = crime_data_2014['clearance_status'].map(lambda x: str(x)[0:1])\n",
    "crime_data_2014.head()"
   ]
  },
  {
   "cell_type": "code",
   "execution_count": 6,
   "metadata": {},
   "outputs": [],
   "source": [
    "crime_data_2014['primary_type_cleaned'] = crime_data_2014['primary_type']"
   ]
  },
  {
   "cell_type": "code",
   "execution_count": 7,
   "metadata": {},
   "outputs": [
    {
     "data": {
      "text/html": [
       "<div>\n",
       "<style scoped>\n",
       "    .dataframe tbody tr th:only-of-type {\n",
       "        vertical-align: middle;\n",
       "    }\n",
       "\n",
       "    .dataframe tbody tr th {\n",
       "        vertical-align: top;\n",
       "    }\n",
       "\n",
       "    .dataframe thead th {\n",
       "        text-align: right;\n",
       "    }\n",
       "</style>\n",
       "<table border=\"1\" class=\"dataframe\">\n",
       "  <thead>\n",
       "    <tr style=\"text-align: right;\">\n",
       "      <th></th>\n",
       "      <th>primary_type</th>\n",
       "      <th>timestamp</th>\n",
       "      <th>clearance_status</th>\n",
       "      <th>council_district_code</th>\n",
       "      <th>x_coordinate</th>\n",
       "      <th>y_coordinate</th>\n",
       "      <th>year</th>\n",
       "    </tr>\n",
       "  </thead>\n",
       "  <tbody>\n",
       "    <tr>\n",
       "      <th>4</th>\n",
       "      <td>Theft</td>\n",
       "      <td>04</td>\n",
       "      <td>C</td>\n",
       "      <td>9.0</td>\n",
       "      <td>3121345.0</td>\n",
       "      <td>10082705.0</td>\n",
       "      <td>2014.0</td>\n",
       "    </tr>\n",
       "    <tr>\n",
       "      <th>9</th>\n",
       "      <td>Auto Theft</td>\n",
       "      <td>04</td>\n",
       "      <td>N</td>\n",
       "      <td>1.0</td>\n",
       "      <td>3118304.0</td>\n",
       "      <td>10072414.0</td>\n",
       "      <td>2014.0</td>\n",
       "    </tr>\n",
       "    <tr>\n",
       "      <th>14</th>\n",
       "      <td>Theft</td>\n",
       "      <td>05</td>\n",
       "      <td>N</td>\n",
       "      <td>2.0</td>\n",
       "      <td>3125886.0</td>\n",
       "      <td>10047276.0</td>\n",
       "      <td>2014.0</td>\n",
       "    </tr>\n",
       "    <tr>\n",
       "      <th>17</th>\n",
       "      <td>Auto Theft</td>\n",
       "      <td>12</td>\n",
       "      <td>N</td>\n",
       "      <td>1.0</td>\n",
       "      <td>3125976.0</td>\n",
       "      <td>10072207.0</td>\n",
       "      <td>2014.0</td>\n",
       "    </tr>\n",
       "    <tr>\n",
       "      <th>20</th>\n",
       "      <td>Theft</td>\n",
       "      <td>04</td>\n",
       "      <td>N</td>\n",
       "      <td>7.0</td>\n",
       "      <td>3117183.0</td>\n",
       "      <td>10103211.0</td>\n",
       "      <td>2014.0</td>\n",
       "    </tr>\n",
       "  </tbody>\n",
       "</table>\n",
       "</div>"
      ],
      "text/plain": [
       "   primary_type timestamp clearance_status  council_district_code  \\\n",
       "4         Theft        04                C                    9.0   \n",
       "9    Auto Theft        04                N                    1.0   \n",
       "14        Theft        05                N                    2.0   \n",
       "17   Auto Theft        12                N                    1.0   \n",
       "20        Theft        04                N                    7.0   \n",
       "\n",
       "    x_coordinate  y_coordinate    year  \n",
       "4      3121345.0    10082705.0  2014.0  \n",
       "9      3118304.0    10072414.0  2014.0  \n",
       "14     3125886.0    10047276.0  2014.0  \n",
       "17     3125976.0    10072207.0  2014.0  \n",
       "20     3117183.0    10103211.0  2014.0  "
      ]
     },
     "execution_count": 7,
     "metadata": {},
     "output_type": "execute_result"
    }
   ],
   "source": [
    "import re\n",
    "regex_pat = re.compile(r'^Theft:.*$', flags=re.IGNORECASE)\n",
    "crime_data_2014[\"primary_type_cleaned\"].replace(regex_pat, \"Theft\", inplace=True)\n",
    "\n",
    "crime_data_2014[\"primary_type\"] = crime_data_2014[\"primary_type_cleaned\"]\n",
    "crime_data_2014 = crime_data_2014.drop(\"primary_type_cleaned\",axis=1)\n",
    "crime_data_2014.head()"
   ]
  },
  {
   "cell_type": "code",
   "execution_count": 8,
   "metadata": {},
   "outputs": [
    {
     "data": {
      "text/plain": [
       "3.0     5306\n",
       "9.0     4986\n",
       "4.0     4897\n",
       "7.0     3881\n",
       "1.0     3200\n",
       "2.0     2852\n",
       "5.0     2765\n",
       "6.0     1761\n",
       "8.0     1740\n",
       "10.0    1529\n",
       "Name: council_district_code, dtype: int64"
      ]
     },
     "execution_count": 8,
     "metadata": {},
     "output_type": "execute_result"
    }
   ],
   "source": [
    "crime_data_2014[\"council_district_code\"].value_counts()"
   ]
  },
  {
   "cell_type": "code",
   "execution_count": 9,
   "metadata": {},
   "outputs": [
    {
     "data": {
      "text/plain": [
       "07    2991\n",
       "08    2935\n",
       "10    2906\n",
       "05    2814\n",
       "03    2751\n",
       "01    2748\n",
       "09    2744\n",
       "06    2709\n",
       "04    2659\n",
       "12    2639\n",
       "11    2599\n",
       "02    2422\n",
       "Name: timestamp, dtype: int64"
      ]
     },
     "execution_count": 9,
     "metadata": {},
     "output_type": "execute_result"
    }
   ],
   "source": [
    "crime_data_2014[\"timestamp\"].value_counts()"
   ]
  },
  {
   "cell_type": "code",
   "execution_count": 10,
   "metadata": {},
   "outputs": [
    {
     "data": {
      "text/plain": [
       "Theft                                           28082\n",
       "Auto Theft                                       2151\n",
       "Aggravated Assault                               1821\n",
       "Robbery                                           838\n",
       "Homicide: Murder & Nonnegligent Manslaughter       25\n",
       "Name: primary_type, dtype: int64"
      ]
     },
     "execution_count": 10,
     "metadata": {},
     "output_type": "execute_result"
    }
   ],
   "source": [
    "crime_data_2014[\"primary_type\"].value_counts()"
   ]
  },
  {
   "cell_type": "code",
   "execution_count": 11,
   "metadata": {},
   "outputs": [
    {
     "data": {
      "text/plain": [
       "32917"
      ]
     },
     "execution_count": 11,
     "metadata": {},
     "output_type": "execute_result"
    }
   ],
   "source": [
    "# Check length of set\n",
    "len(crime_data_2014)"
   ]
  },
  {
   "cell_type": "code",
   "execution_count": 12,
   "metadata": {},
   "outputs": [],
   "source": [
    "# Turn 2015 and 2016 crime csv into dataframes and drop unneccessary columns\n",
    "crime_data_2015 = pd.DataFrame(crime_data_2015)\n",
    "crime_data_2016 = pd.DataFrame(crime_data_2016)\n",
    "\n",
    "crime_data_2015 = crime_data_2015.drop(\"GO Primary Key\",axis=1)\n",
    "crime_data_2016 = crime_data_2016.drop(\"GO Primary Key\",axis=1)\n",
    "\n",
    "crime_data_2015 = crime_data_2015.drop(\"GO Highest Offense Desc\",axis=1)\n",
    "crime_data_2016 = crime_data_2016.drop(\"GO Highest Offense Desc\",axis=1)\n",
    "\n",
    "crime_data_2015 = crime_data_2015.drop(\"Clearance Date\",axis=1)\n",
    "crime_data_2016 = crime_data_2016.drop(\"Clearance Date\",axis=1)\n",
    "\n",
    "crime_data_2015 = crime_data_2015.drop(\"GO Location Zip\",axis=1)\n",
    "crime_data_2016 = crime_data_2016.drop(\"GO Location Zip\",axis=1)\n",
    "\n",
    "crime_data_2015 = crime_data_2015.drop(\"GO Location\",axis=1)\n",
    "crime_data_2016 = crime_data_2016.drop(\"GO Location\",axis=1)\n",
    "\n",
    "crime_data_2015 = crime_data_2015.drop(\"GO Census Tract\",axis=1)\n",
    "crime_data_2016 = crime_data_2016.drop(\"GO Census Tract\",axis=1)\n",
    "\n",
    "crime_data_2015 = crime_data_2015.drop(\"GO District\",axis=1)\n",
    "crime_data_2016 = crime_data_2016.drop(\"GO District\",axis=1)\n",
    "\n",
    "# Drop all rows containing no values\n",
    "crime_data_2015 = crime_data_2015.dropna()\n",
    "crime_data_2016 = crime_data_2016.dropna()"
   ]
  },
  {
   "cell_type": "code",
   "execution_count": 13,
   "metadata": {},
   "outputs": [],
   "source": [
    "# Rename columns for merge\n",
    "crime_data_2015.columns = ['council_district_code', 'primary_type', 'timestamp', 'clearance_status', 'x_coordinate', 'y_coordinate']\n",
    "\n",
    "# Reorder and rename Columns\n",
    "crime_data_2015 = crime_data_2015[['primary_type', 'timestamp', 'clearance_status', 'council_district_code', 'x_coordinate', 'y_coordinate']]\n",
    "\n",
    "# Add year column\n",
    "crime_data_2015['year'] = 2015.0"
   ]
  },
  {
   "cell_type": "code",
   "execution_count": 14,
   "metadata": {},
   "outputs": [
    {
     "name": "stderr",
     "output_type": "stream",
     "text": [
      "/Users/alnunu/anaconda3/envs/pythonData/lib/python3.6/site-packages/ipykernel_launcher.py:5: FutureWarning: set_value is deprecated and will be removed in a future release. Please use .at[] or .iat[] accessors instead\n",
      "  \"\"\"\n"
     ]
    }
   ],
   "source": [
    "# Edit timestamp column to show only month\n",
    "for index, row in crime_data_2015.iterrows():\n",
    "    split = row['timestamp']\n",
    "    split = split.split('-')[1]\n",
    "    crime_data_2015.set_value(index, 'timestamp', split)"
   ]
  },
  {
   "cell_type": "code",
   "execution_count": 15,
   "metadata": {},
   "outputs": [
    {
     "data": {
      "text/plain": [
       "Theft          26602\n",
       "Burglary        4845\n",
       "Auto Theft      1975\n",
       "Agg Assault     1826\n",
       "Robbery          824\n",
       "Murder            18\n",
       "Name: primary_type, dtype: int64"
      ]
     },
     "execution_count": 15,
     "metadata": {},
     "output_type": "execute_result"
    }
   ],
   "source": [
    "crime_data_2015[\"primary_type\"].value_counts()"
   ]
  },
  {
   "cell_type": "code",
   "execution_count": 16,
   "metadata": {},
   "outputs": [
    {
     "data": {
      "text/plain": [
       "Jul    3309\n",
       "Aug    3145\n",
       "May    3124\n",
       "Jun    3059\n",
       "Apr    3016\n",
       "Mar    3014\n",
       "Dec    2967\n",
       "Sep    2959\n",
       "Jan    2949\n",
       "Nov    2906\n",
       "Oct    2885\n",
       "Feb    2757\n",
       "Name: timestamp, dtype: int64"
      ]
     },
     "execution_count": 16,
     "metadata": {},
     "output_type": "execute_result"
    }
   ],
   "source": [
    "crime_data_2015[\"timestamp\"].value_counts()"
   ]
  },
  {
   "cell_type": "code",
   "execution_count": 17,
   "metadata": {},
   "outputs": [],
   "source": [
    "# Rename columns for merge\n",
    "crime_data_2016.columns = ['council_district_code', 'primary_type', 'timestamp', 'clearance_status', 'x_coordinate', 'y_coordinate']\n",
    "\n",
    "# Reorder and rename Columns\n",
    "crime_data_2016 = crime_data_2016[['primary_type', 'timestamp', 'clearance_status', 'council_district_code', 'x_coordinate', 'y_coordinate']]\n",
    "\n",
    "# Add year column\n",
    "crime_data_2016['year'] = 2016.0"
   ]
  },
  {
   "cell_type": "code",
   "execution_count": 18,
   "metadata": {},
   "outputs": [
    {
     "name": "stderr",
     "output_type": "stream",
     "text": [
      "/Users/alnunu/anaconda3/envs/pythonData/lib/python3.6/site-packages/ipykernel_launcher.py:5: FutureWarning: set_value is deprecated and will be removed in a future release. Please use .at[] or .iat[] accessors instead\n",
      "  \"\"\"\n"
     ]
    }
   ],
   "source": [
    "# Edit timestamp column to show only month\n",
    "for index, row in crime_data_2016.iterrows():\n",
    "    split = row['timestamp']\n",
    "    split = split.split('-')[1]\n",
    "    crime_data_2016.set_value(index, 'timestamp', split)"
   ]
  },
  {
   "cell_type": "code",
   "execution_count": 19,
   "metadata": {},
   "outputs": [
    {
     "data": {
      "text/plain": [
       "Jan    3064\n",
       "Mar    3059\n",
       "Apr    3010\n",
       "Oct    2997\n",
       "Jun    2966\n",
       "May    2923\n",
       "Sep    2873\n",
       "Dec    2870\n",
       "Nov    2842\n",
       "Aug    2822\n",
       "Jul    2788\n",
       "Feb    2671\n",
       "Name: timestamp, dtype: int64"
      ]
     },
     "execution_count": 19,
     "metadata": {},
     "output_type": "execute_result"
    }
   ],
   "source": [
    "crime_data_2016[\"timestamp\"].value_counts()"
   ]
  },
  {
   "cell_type": "code",
   "execution_count": 20,
   "metadata": {},
   "outputs": [
    {
     "data": {
      "text/plain": [
       "Theft          24845\n",
       "Burglary        5025\n",
       "Agg Assault     2086\n",
       "Auto Theft      1988\n",
       "Robbery          911\n",
       "Murder            30\n",
       "Name: primary_type, dtype: int64"
      ]
     },
     "execution_count": 20,
     "metadata": {},
     "output_type": "execute_result"
    }
   ],
   "source": [
    "crime_data_2016[\"primary_type\"].value_counts()"
   ]
  },
  {
   "cell_type": "code",
   "execution_count": 21,
   "metadata": {},
   "outputs": [
    {
     "data": {
      "text/plain": [
       "36090"
      ]
     },
     "execution_count": 21,
     "metadata": {},
     "output_type": "execute_result"
    }
   ],
   "source": [
    "# Check length of set\n",
    "len(crime_data_2015)"
   ]
  },
  {
   "cell_type": "code",
   "execution_count": 22,
   "metadata": {},
   "outputs": [
    {
     "data": {
      "text/plain": [
       "34885"
      ]
     },
     "execution_count": 22,
     "metadata": {},
     "output_type": "execute_result"
    }
   ],
   "source": [
    "# Check length of set\n",
    "len(crime_data_2016)"
   ]
  },
  {
   "cell_type": "code",
   "execution_count": 23,
   "metadata": {},
   "outputs": [],
   "source": [
    "output_data_file_2014 = \"clean_csvs/crime_2014.csv\"\n",
    "output_data_file_2015 = \"clean_csvs/crime_2015.csv\"\n",
    "output_data_file_2016 = \"clean_csvs/crime_2016.csv\""
   ]
  },
  {
   "cell_type": "code",
   "execution_count": 24,
   "metadata": {},
   "outputs": [],
   "source": [
    "crime_data_2014.to_csv(output_data_file_2014)\n",
    "crime_data_2015.to_csv(output_data_file_2015)\n",
    "crime_data_2016.to_csv(output_data_file_2016)"
   ]
  }
 ],
 "metadata": {
  "kernelspec": {
   "display_name": "Python Data",
   "language": "python",
   "name": "pythondata"
  },
  "language_info": {
   "codemirror_mode": {
    "name": "ipython",
    "version": 3
   },
   "file_extension": ".py",
   "mimetype": "text/x-python",
   "name": "python",
   "nbconvert_exporter": "python",
   "pygments_lexer": "ipython3",
   "version": "3.6.5"
  }
 },
 "nbformat": 4,
 "nbformat_minor": 2
}
