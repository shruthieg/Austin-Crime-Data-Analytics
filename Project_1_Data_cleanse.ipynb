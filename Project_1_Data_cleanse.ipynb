{
 "cells": [
  {
   "cell_type": "code",
   "execution_count": 1,
   "metadata": {},
   "outputs": [],
   "source": [
    "%matplotlib inline\n",
    "# Dependencies and Setup\n",
    "import os\n",
    "import pandas as pd\n",
    "import numpy as np\n",
    "import matplotlib.pyplot as plt\n",
    "\n",
    "# Raw data file\n",
    "file_2014 = os.path.join('austin_crime.csv')\n",
    "file_2015 = os.path.join('Annual_Crime_Dataset_2015.csv')\n",
    "file_2016 = os.path.join('2016_Annual_Crime_Data.csv')\n",
    "\n",
    "# Read crime report files and store into pandas data frame\n",
    "crime_data_2014 = pd.read_csv(file_2014)\n",
    "crime_data_2015 = pd.read_csv(file_2015)\n",
    "crime_data_2016 = pd.read_csv(file_2016)"
   ]
  },
  {
   "cell_type": "code",
   "execution_count": 2,
   "metadata": {},
   "outputs": [
    {
     "name": "stdout",
     "output_type": "stream",
     "text": [
      "159464\n",
      "-------------\n",
      "38573\n",
      "-------------\n",
      "37461\n"
     ]
    }
   ],
   "source": [
    "# Check original length of csv file rows\n",
    "print(len(crime_data_2014))\n",
    "print(\"-------------\")\n",
    "print(len(crime_data_2015))\n",
    "print(\"-------------\")\n",
    "print(len(crime_data_2016))"
   ]
  },
  {
   "cell_type": "code",
   "execution_count": 3,
   "metadata": {},
   "outputs": [
    {
     "data": {
      "text/html": [
       "<div>\n",
       "<style scoped>\n",
       "    .dataframe tbody tr th:only-of-type {\n",
       "        vertical-align: middle;\n",
       "    }\n",
       "\n",
       "    .dataframe tbody tr th {\n",
       "        vertical-align: top;\n",
       "    }\n",
       "\n",
       "    .dataframe thead th {\n",
       "        text-align: right;\n",
       "    }\n",
       "</style>\n",
       "<table border=\"1\" class=\"dataframe\">\n",
       "  <thead>\n",
       "    <tr style=\"text-align: right;\">\n",
       "      <th></th>\n",
       "      <th>primary_type</th>\n",
       "      <th>timestamp</th>\n",
       "      <th>clearance_status</th>\n",
       "      <th>district</th>\n",
       "      <th>x_coordinate</th>\n",
       "      <th>y_coordinate</th>\n",
       "      <th>year</th>\n",
       "    </tr>\n",
       "  </thead>\n",
       "  <tbody>\n",
       "    <tr>\n",
       "      <th>4</th>\n",
       "      <td>Theft: Shoplifting</td>\n",
       "      <td>2014-04-04 00:00:00</td>\n",
       "      <td>Cleared by Arrest</td>\n",
       "      <td>B</td>\n",
       "      <td>3121345.0</td>\n",
       "      <td>10082705.0</td>\n",
       "      <td>2014.0</td>\n",
       "    </tr>\n",
       "    <tr>\n",
       "      <th>9</th>\n",
       "      <td>Auto Theft</td>\n",
       "      <td>2014-04-04 00:00:00</td>\n",
       "      <td>Not cleared</td>\n",
       "      <td>C</td>\n",
       "      <td>3118304.0</td>\n",
       "      <td>10072414.0</td>\n",
       "      <td>2014.0</td>\n",
       "    </tr>\n",
       "    <tr>\n",
       "      <th>14</th>\n",
       "      <td>Theft: All Other Larceny</td>\n",
       "      <td>2014-05-08 00:00:00</td>\n",
       "      <td>Not cleared</td>\n",
       "      <td>H</td>\n",
       "      <td>3125886.0</td>\n",
       "      <td>10047276.0</td>\n",
       "      <td>2014.0</td>\n",
       "    </tr>\n",
       "    <tr>\n",
       "      <th>17</th>\n",
       "      <td>Auto Theft</td>\n",
       "      <td>2014-12-18 00:00:00</td>\n",
       "      <td>Not cleared</td>\n",
       "      <td>C</td>\n",
       "      <td>3125976.0</td>\n",
       "      <td>10072207.0</td>\n",
       "      <td>2014.0</td>\n",
       "    </tr>\n",
       "    <tr>\n",
       "      <th>20</th>\n",
       "      <td>Theft: All Other Larceny</td>\n",
       "      <td>2014-04-16 00:00:00</td>\n",
       "      <td>Not cleared</td>\n",
       "      <td>B</td>\n",
       "      <td>3117183.0</td>\n",
       "      <td>10103211.0</td>\n",
       "      <td>2014.0</td>\n",
       "    </tr>\n",
       "  </tbody>\n",
       "</table>\n",
       "</div>"
      ],
      "text/plain": [
       "                primary_type            timestamp   clearance_status district  \\\n",
       "4         Theft: Shoplifting  2014-04-04 00:00:00  Cleared by Arrest        B   \n",
       "9                 Auto Theft  2014-04-04 00:00:00        Not cleared        C   \n",
       "14  Theft: All Other Larceny  2014-05-08 00:00:00        Not cleared        H   \n",
       "17                Auto Theft  2014-12-18 00:00:00        Not cleared        C   \n",
       "20  Theft: All Other Larceny  2014-04-16 00:00:00        Not cleared        B   \n",
       "\n",
       "    x_coordinate  y_coordinate    year  \n",
       "4      3121345.0    10082705.0  2014.0  \n",
       "9      3118304.0    10072414.0  2014.0  \n",
       "14     3125886.0    10047276.0  2014.0  \n",
       "17     3125976.0    10072207.0  2014.0  \n",
       "20     3117183.0    10103211.0  2014.0  "
      ]
     },
     "execution_count": 3,
     "metadata": {},
     "output_type": "execute_result"
    }
   ],
   "source": [
    "# Turn 2014 crime csv into dataframe and drop unneccessary columns\n",
    "crime_data_2014 = pd.DataFrame(crime_data_2014)\n",
    "crime_data_2014 = crime_data_2014.drop(\"latitude\",axis=1)\n",
    "crime_data_2014 = crime_data_2014.drop(\"location\",axis=1)\n",
    "crime_data_2014 = crime_data_2014.drop(\"longitude\",axis=1)\n",
    "crime_data_2014 = crime_data_2014.drop(\"census_tract\",axis=1)\n",
    "crime_data_2014 = crime_data_2014.drop(\"unique_key\",axis=1)\n",
    "crime_data_2014 = crime_data_2014.drop(\"zipcode\",axis=1)\n",
    "crime_data_2014 = crime_data_2014.drop(\"clearance_date\",axis=1)\n",
    "crime_data_2014 = crime_data_2014.drop(\"council_district_code\",axis=1)\n",
    "crime_data_2014 = crime_data_2014.drop(\"description\",axis=1)\n",
    "crime_data_2014 = crime_data_2014.drop(\"location_description\",axis=1)\n",
    "crime_data_2014 = crime_data_2014.drop(\"address\",axis=1)\n",
    "\n",
    "# Drop all rows containing no values\n",
    "crime_data_2014 = crime_data_2014.dropna()\n",
    "\n",
    "# Extract only 2014 data\n",
    "crime_data_2014 = crime_data_2014.drop(crime_data_2014[crime_data_2014.year == 2015.0].index)\n",
    "\n",
    "# Reorder columns\n",
    "crime_data_2014 = crime_data_2014[['primary_type', 'timestamp', 'clearance_status', 'district', 'x_coordinate', 'y_coordinate', 'year']]\n",
    "crime_data_2014.head()"
   ]
  },
  {
   "cell_type": "code",
   "execution_count": 4,
   "metadata": {},
   "outputs": [
    {
     "data": {
      "text/html": [
       "<div>\n",
       "<style scoped>\n",
       "    .dataframe tbody tr th:only-of-type {\n",
       "        vertical-align: middle;\n",
       "    }\n",
       "\n",
       "    .dataframe tbody tr th {\n",
       "        vertical-align: top;\n",
       "    }\n",
       "\n",
       "    .dataframe thead th {\n",
       "        text-align: right;\n",
       "    }\n",
       "</style>\n",
       "<table border=\"1\" class=\"dataframe\">\n",
       "  <thead>\n",
       "    <tr style=\"text-align: right;\">\n",
       "      <th></th>\n",
       "      <th>primary_type</th>\n",
       "      <th>timestamp</th>\n",
       "      <th>clearance_status</th>\n",
       "      <th>district</th>\n",
       "      <th>x_coordinate</th>\n",
       "      <th>y_coordinate</th>\n",
       "      <th>year</th>\n",
       "    </tr>\n",
       "  </thead>\n",
       "  <tbody>\n",
       "    <tr>\n",
       "      <th>4</th>\n",
       "      <td>Theft: Shoplifting</td>\n",
       "      <td>04</td>\n",
       "      <td>Cleared by Arrest</td>\n",
       "      <td>B</td>\n",
       "      <td>3121345.0</td>\n",
       "      <td>10082705.0</td>\n",
       "      <td>2014.0</td>\n",
       "    </tr>\n",
       "    <tr>\n",
       "      <th>9</th>\n",
       "      <td>Auto Theft</td>\n",
       "      <td>04</td>\n",
       "      <td>Not cleared</td>\n",
       "      <td>C</td>\n",
       "      <td>3118304.0</td>\n",
       "      <td>10072414.0</td>\n",
       "      <td>2014.0</td>\n",
       "    </tr>\n",
       "    <tr>\n",
       "      <th>14</th>\n",
       "      <td>Theft: All Other Larceny</td>\n",
       "      <td>05</td>\n",
       "      <td>Not cleared</td>\n",
       "      <td>H</td>\n",
       "      <td>3125886.0</td>\n",
       "      <td>10047276.0</td>\n",
       "      <td>2014.0</td>\n",
       "    </tr>\n",
       "    <tr>\n",
       "      <th>17</th>\n",
       "      <td>Auto Theft</td>\n",
       "      <td>12</td>\n",
       "      <td>Not cleared</td>\n",
       "      <td>C</td>\n",
       "      <td>3125976.0</td>\n",
       "      <td>10072207.0</td>\n",
       "      <td>2014.0</td>\n",
       "    </tr>\n",
       "    <tr>\n",
       "      <th>20</th>\n",
       "      <td>Theft: All Other Larceny</td>\n",
       "      <td>04</td>\n",
       "      <td>Not cleared</td>\n",
       "      <td>B</td>\n",
       "      <td>3117183.0</td>\n",
       "      <td>10103211.0</td>\n",
       "      <td>2014.0</td>\n",
       "    </tr>\n",
       "  </tbody>\n",
       "</table>\n",
       "</div>"
      ],
      "text/plain": [
       "                primary_type timestamp   clearance_status district  \\\n",
       "4         Theft: Shoplifting        04  Cleared by Arrest        B   \n",
       "9                 Auto Theft        04        Not cleared        C   \n",
       "14  Theft: All Other Larceny        05        Not cleared        H   \n",
       "17                Auto Theft        12        Not cleared        C   \n",
       "20  Theft: All Other Larceny        04        Not cleared        B   \n",
       "\n",
       "    x_coordinate  y_coordinate    year  \n",
       "4      3121345.0    10082705.0  2014.0  \n",
       "9      3118304.0    10072414.0  2014.0  \n",
       "14     3125886.0    10047276.0  2014.0  \n",
       "17     3125976.0    10072207.0  2014.0  \n",
       "20     3117183.0    10103211.0  2014.0  "
      ]
     },
     "execution_count": 4,
     "metadata": {},
     "output_type": "execute_result"
    }
   ],
   "source": [
    "# Edit timestamp column to show only month\n",
    "crime_data_2014['timestamp'] = crime_data_2014['timestamp'].map(lambda x: str(x)[5:7])\n",
    "crime_data_2014.head()"
   ]
  },
  {
   "cell_type": "code",
   "execution_count": 5,
   "metadata": {},
   "outputs": [
    {
     "data": {
      "text/html": [
       "<div>\n",
       "<style scoped>\n",
       "    .dataframe tbody tr th:only-of-type {\n",
       "        vertical-align: middle;\n",
       "    }\n",
       "\n",
       "    .dataframe tbody tr th {\n",
       "        vertical-align: top;\n",
       "    }\n",
       "\n",
       "    .dataframe thead th {\n",
       "        text-align: right;\n",
       "    }\n",
       "</style>\n",
       "<table border=\"1\" class=\"dataframe\">\n",
       "  <thead>\n",
       "    <tr style=\"text-align: right;\">\n",
       "      <th></th>\n",
       "      <th>primary_type</th>\n",
       "      <th>timestamp</th>\n",
       "      <th>clearance_status</th>\n",
       "      <th>district</th>\n",
       "      <th>x_coordinate</th>\n",
       "      <th>y_coordinate</th>\n",
       "      <th>year</th>\n",
       "    </tr>\n",
       "  </thead>\n",
       "  <tbody>\n",
       "    <tr>\n",
       "      <th>4</th>\n",
       "      <td>Theft: Shoplifting</td>\n",
       "      <td>04</td>\n",
       "      <td>C</td>\n",
       "      <td>B</td>\n",
       "      <td>3121345.0</td>\n",
       "      <td>10082705.0</td>\n",
       "      <td>2014.0</td>\n",
       "    </tr>\n",
       "    <tr>\n",
       "      <th>9</th>\n",
       "      <td>Auto Theft</td>\n",
       "      <td>04</td>\n",
       "      <td>N</td>\n",
       "      <td>C</td>\n",
       "      <td>3118304.0</td>\n",
       "      <td>10072414.0</td>\n",
       "      <td>2014.0</td>\n",
       "    </tr>\n",
       "    <tr>\n",
       "      <th>14</th>\n",
       "      <td>Theft: All Other Larceny</td>\n",
       "      <td>05</td>\n",
       "      <td>N</td>\n",
       "      <td>H</td>\n",
       "      <td>3125886.0</td>\n",
       "      <td>10047276.0</td>\n",
       "      <td>2014.0</td>\n",
       "    </tr>\n",
       "    <tr>\n",
       "      <th>17</th>\n",
       "      <td>Auto Theft</td>\n",
       "      <td>12</td>\n",
       "      <td>N</td>\n",
       "      <td>C</td>\n",
       "      <td>3125976.0</td>\n",
       "      <td>10072207.0</td>\n",
       "      <td>2014.0</td>\n",
       "    </tr>\n",
       "    <tr>\n",
       "      <th>20</th>\n",
       "      <td>Theft: All Other Larceny</td>\n",
       "      <td>04</td>\n",
       "      <td>N</td>\n",
       "      <td>B</td>\n",
       "      <td>3117183.0</td>\n",
       "      <td>10103211.0</td>\n",
       "      <td>2014.0</td>\n",
       "    </tr>\n",
       "  </tbody>\n",
       "</table>\n",
       "</div>"
      ],
      "text/plain": [
       "                primary_type timestamp clearance_status district  \\\n",
       "4         Theft: Shoplifting        04                C        B   \n",
       "9                 Auto Theft        04                N        C   \n",
       "14  Theft: All Other Larceny        05                N        H   \n",
       "17                Auto Theft        12                N        C   \n",
       "20  Theft: All Other Larceny        04                N        B   \n",
       "\n",
       "    x_coordinate  y_coordinate    year  \n",
       "4      3121345.0    10082705.0  2014.0  \n",
       "9      3118304.0    10072414.0  2014.0  \n",
       "14     3125886.0    10047276.0  2014.0  \n",
       "17     3125976.0    10072207.0  2014.0  \n",
       "20     3117183.0    10103211.0  2014.0  "
      ]
     },
     "execution_count": 5,
     "metadata": {},
     "output_type": "execute_result"
    }
   ],
   "source": [
    "# Edit clearance status to display only first character\n",
    "crime_data_2014['clearance_status'] = crime_data_2014['clearance_status'].map(lambda x: str(x)[0:1])\n",
    "crime_data_2014.head()"
   ]
  },
  {
   "cell_type": "code",
   "execution_count": 6,
   "metadata": {},
   "outputs": [
    {
     "data": {
      "text/plain": [
       "32996"
      ]
     },
     "execution_count": 6,
     "metadata": {},
     "output_type": "execute_result"
    }
   ],
   "source": [
    "# Check length of set\n",
    "len(crime_data_2014)"
   ]
  },
  {
   "cell_type": "code",
   "execution_count": 7,
   "metadata": {},
   "outputs": [],
   "source": [
    "# Turn 2015 and 2016 crime csv into dataframes and drop unneccessary columns\n",
    "crime_data_2015 = pd.DataFrame(crime_data_2015)\n",
    "crime_data_2016 = pd.DataFrame(crime_data_2016)\n",
    "\n",
    "crime_data_2015 = crime_data_2015.drop(\"GO Primary Key\",axis=1)\n",
    "crime_data_2016 = crime_data_2016.drop(\"GO Primary Key\",axis=1)\n",
    "\n",
    "crime_data_2015 = crime_data_2015.drop(\"GO Highest Offense Desc\",axis=1)\n",
    "crime_data_2016 = crime_data_2016.drop(\"GO Highest Offense Desc\",axis=1)\n",
    "\n",
    "crime_data_2015 = crime_data_2015.drop(\"Clearance Date\",axis=1)\n",
    "crime_data_2016 = crime_data_2016.drop(\"Clearance Date\",axis=1)\n",
    "\n",
    "crime_data_2015 = crime_data_2015.drop(\"GO Location Zip\",axis=1)\n",
    "crime_data_2016 = crime_data_2016.drop(\"GO Location Zip\",axis=1)\n",
    "\n",
    "crime_data_2015 = crime_data_2015.drop(\"GO Location\",axis=1)\n",
    "crime_data_2016 = crime_data_2016.drop(\"GO Location\",axis=1)\n",
    "\n",
    "crime_data_2015 = crime_data_2015.drop(\"GO Census Tract\",axis=1)\n",
    "crime_data_2016 = crime_data_2016.drop(\"GO Census Tract\",axis=1)\n",
    "\n",
    "crime_data_2015 = crime_data_2015.drop(\"Council District\",axis=1)\n",
    "crime_data_2016 = crime_data_2016.drop(\"Council District\",axis=1)\n",
    "\n",
    "# Drop all rows containing no values\n",
    "crime_data_2015 = crime_data_2015.dropna()\n",
    "crime_data_2016 = crime_data_2016.dropna()"
   ]
  },
  {
   "cell_type": "code",
   "execution_count": 8,
   "metadata": {},
   "outputs": [
    {
     "data": {
      "text/html": [
       "<div>\n",
       "<style scoped>\n",
       "    .dataframe tbody tr th:only-of-type {\n",
       "        vertical-align: middle;\n",
       "    }\n",
       "\n",
       "    .dataframe tbody tr th {\n",
       "        vertical-align: top;\n",
       "    }\n",
       "\n",
       "    .dataframe thead th {\n",
       "        text-align: right;\n",
       "    }\n",
       "</style>\n",
       "<table border=\"1\" class=\"dataframe\">\n",
       "  <thead>\n",
       "    <tr style=\"text-align: right;\">\n",
       "      <th></th>\n",
       "      <th>primary_type</th>\n",
       "      <th>timestamp</th>\n",
       "      <th>clearance_status</th>\n",
       "      <th>district</th>\n",
       "      <th>x_coordinate</th>\n",
       "      <th>y_coordinate</th>\n",
       "      <th>year</th>\n",
       "    </tr>\n",
       "  </thead>\n",
       "  <tbody>\n",
       "    <tr>\n",
       "      <th>0</th>\n",
       "      <td>Robbery</td>\n",
       "      <td>Jan</td>\n",
       "      <td>N</td>\n",
       "      <td>E</td>\n",
       "      <td>3130483.0</td>\n",
       "      <td>10102366.0</td>\n",
       "      <td>2015.0</td>\n",
       "    </tr>\n",
       "    <tr>\n",
       "      <th>1</th>\n",
       "      <td>Robbery</td>\n",
       "      <td>Jan</td>\n",
       "      <td>N</td>\n",
       "      <td>I</td>\n",
       "      <td>3124730.0</td>\n",
       "      <td>10090296.0</td>\n",
       "      <td>2015.0</td>\n",
       "    </tr>\n",
       "    <tr>\n",
       "      <th>2</th>\n",
       "      <td>Burglary</td>\n",
       "      <td>Jan</td>\n",
       "      <td>N</td>\n",
       "      <td>E</td>\n",
       "      <td>3135985.0</td>\n",
       "      <td>10117220.0</td>\n",
       "      <td>2015.0</td>\n",
       "    </tr>\n",
       "    <tr>\n",
       "      <th>3</th>\n",
       "      <td>Burglary</td>\n",
       "      <td>Jan</td>\n",
       "      <td>N</td>\n",
       "      <td>I</td>\n",
       "      <td>3129896.0</td>\n",
       "      <td>10096032.0</td>\n",
       "      <td>2015.0</td>\n",
       "    </tr>\n",
       "    <tr>\n",
       "      <th>4</th>\n",
       "      <td>Burglary</td>\n",
       "      <td>Jan</td>\n",
       "      <td>N</td>\n",
       "      <td>F</td>\n",
       "      <td>3110455.0</td>\n",
       "      <td>10039340.0</td>\n",
       "      <td>2015.0</td>\n",
       "    </tr>\n",
       "  </tbody>\n",
       "</table>\n",
       "</div>"
      ],
      "text/plain": [
       "  primary_type timestamp clearance_status district  x_coordinate  \\\n",
       "0      Robbery       Jan                N        E     3130483.0   \n",
       "1      Robbery       Jan                N        I     3124730.0   \n",
       "2     Burglary       Jan                N        E     3135985.0   \n",
       "3     Burglary       Jan                N        I     3129896.0   \n",
       "4     Burglary       Jan                N        F     3110455.0   \n",
       "\n",
       "   y_coordinate    year  \n",
       "0    10102366.0  2015.0  \n",
       "1    10090296.0  2015.0  \n",
       "2    10117220.0  2015.0  \n",
       "3    10096032.0  2015.0  \n",
       "4    10039340.0  2015.0  "
      ]
     },
     "execution_count": 8,
     "metadata": {},
     "output_type": "execute_result"
    }
   ],
   "source": [
    "# Rename columns for merge\n",
    "crime_data_2015.columns = ['primary_type', 'timestamp', 'clearance_status', 'district', 'x_coordinate', 'y_coordinate']\n",
    "\n",
    "# Add year column\n",
    "crime_data_2015['year'] = 2015.0\n",
    "\n",
    "# Edit timestamp column to show only month\n",
    "crime_data_2015['timestamp'] = crime_data_2015['timestamp'].map(lambda x: str(x)[2:5])\n",
    "crime_data_2015.head()"
   ]
  },
  {
   "cell_type": "code",
   "execution_count": 9,
   "metadata": {},
   "outputs": [
    {
     "data": {
      "text/html": [
       "<div>\n",
       "<style scoped>\n",
       "    .dataframe tbody tr th:only-of-type {\n",
       "        vertical-align: middle;\n",
       "    }\n",
       "\n",
       "    .dataframe tbody tr th {\n",
       "        vertical-align: top;\n",
       "    }\n",
       "\n",
       "    .dataframe thead th {\n",
       "        text-align: right;\n",
       "    }\n",
       "</style>\n",
       "<table border=\"1\" class=\"dataframe\">\n",
       "  <thead>\n",
       "    <tr style=\"text-align: right;\">\n",
       "      <th></th>\n",
       "      <th>primary_type</th>\n",
       "      <th>timestamp</th>\n",
       "      <th>clearance_status</th>\n",
       "      <th>district</th>\n",
       "      <th>x_coordinate</th>\n",
       "      <th>y_coordinate</th>\n",
       "      <th>year</th>\n",
       "    </tr>\n",
       "  </thead>\n",
       "  <tbody>\n",
       "    <tr>\n",
       "      <th>0</th>\n",
       "      <td>Agg Assault</td>\n",
       "      <td>Jan</td>\n",
       "      <td>C</td>\n",
       "      <td>D</td>\n",
       "      <td>3067322.0</td>\n",
       "      <td>10062796.0</td>\n",
       "      <td>2016.0</td>\n",
       "    </tr>\n",
       "    <tr>\n",
       "      <th>1</th>\n",
       "      <td>Theft</td>\n",
       "      <td>Jan</td>\n",
       "      <td>C</td>\n",
       "      <td>G</td>\n",
       "      <td>3114957.0</td>\n",
       "      <td>10070462.0</td>\n",
       "      <td>2016.0</td>\n",
       "    </tr>\n",
       "    <tr>\n",
       "      <th>2</th>\n",
       "      <td>Robbery</td>\n",
       "      <td>Jan</td>\n",
       "      <td>N</td>\n",
       "      <td>E</td>\n",
       "      <td>3129181.0</td>\n",
       "      <td>10106923.0</td>\n",
       "      <td>2016.0</td>\n",
       "    </tr>\n",
       "    <tr>\n",
       "      <th>3</th>\n",
       "      <td>Theft</td>\n",
       "      <td>Jan</td>\n",
       "      <td>N</td>\n",
       "      <td>G</td>\n",
       "      <td>3113643.0</td>\n",
       "      <td>10070357.0</td>\n",
       "      <td>2016.0</td>\n",
       "    </tr>\n",
       "    <tr>\n",
       "      <th>5</th>\n",
       "      <td>Agg Assault</td>\n",
       "      <td>Jan</td>\n",
       "      <td>N</td>\n",
       "      <td>C</td>\n",
       "      <td>3146947.0</td>\n",
       "      <td>10077985.0</td>\n",
       "      <td>2016.0</td>\n",
       "    </tr>\n",
       "  </tbody>\n",
       "</table>\n",
       "</div>"
      ],
      "text/plain": [
       "  primary_type timestamp clearance_status district  x_coordinate  \\\n",
       "0  Agg Assault       Jan                C        D     3067322.0   \n",
       "1        Theft       Jan                C        G     3114957.0   \n",
       "2      Robbery       Jan                N        E     3129181.0   \n",
       "3        Theft       Jan                N        G     3113643.0   \n",
       "5  Agg Assault       Jan                N        C     3146947.0   \n",
       "\n",
       "   y_coordinate    year  \n",
       "0    10062796.0  2016.0  \n",
       "1    10070462.0  2016.0  \n",
       "2    10106923.0  2016.0  \n",
       "3    10070357.0  2016.0  \n",
       "5    10077985.0  2016.0  "
      ]
     },
     "execution_count": 9,
     "metadata": {},
     "output_type": "execute_result"
    }
   ],
   "source": [
    "# Rename columns for merge\n",
    "crime_data_2016.columns = ['primary_type', 'timestamp', 'clearance_status', 'district', 'x_coordinate', 'y_coordinate']\n",
    "\n",
    "# Add year column\n",
    "crime_data_2016[\"year\"] = 2016.0\n",
    "\n",
    "# Edit timestamp column to show only month\n",
    "crime_data_2016['timestamp'] = crime_data_2016['timestamp'].map(lambda x: str(x)[2:5])\n",
    "crime_data_2016.head()"
   ]
  },
  {
   "cell_type": "code",
   "execution_count": 10,
   "metadata": {},
   "outputs": [
    {
     "data": {
      "text/plain": [
       "36125"
      ]
     },
     "execution_count": 10,
     "metadata": {},
     "output_type": "execute_result"
    }
   ],
   "source": [
    "# Check length of set\n",
    "len(crime_data_2015)"
   ]
  },
  {
   "cell_type": "code",
   "execution_count": 11,
   "metadata": {},
   "outputs": [
    {
     "data": {
      "text/plain": [
       "34973"
      ]
     },
     "execution_count": 11,
     "metadata": {},
     "output_type": "execute_result"
    }
   ],
   "source": [
    "# Check length of set\n",
    "len(crime_data_2016)"
   ]
  },
  {
   "cell_type": "code",
   "execution_count": 12,
   "metadata": {},
   "outputs": [],
   "source": [
    "# Merge all data sets into one\n",
    "crime_data_merge = pd.merge(crime_data_2014,crime_data_2015, how =\"outer\")"
   ]
  },
  {
   "cell_type": "code",
   "execution_count": 13,
   "metadata": {},
   "outputs": [],
   "source": [
    "#crime_data_merge_final = pd.merge(crime_data_merge,crime_data_2016, how =\"outer\",on = \"primary_type\")\n",
    "#crime_data_merge_final.head()\n"
   ]
  },
  {
   "cell_type": "code",
   "execution_count": 14,
   "metadata": {},
   "outputs": [
    {
     "data": {
      "text/html": [
       "<div>\n",
       "<style scoped>\n",
       "    .dataframe tbody tr th:only-of-type {\n",
       "        vertical-align: middle;\n",
       "    }\n",
       "\n",
       "    .dataframe tbody tr th {\n",
       "        vertical-align: top;\n",
       "    }\n",
       "\n",
       "    .dataframe thead th {\n",
       "        text-align: right;\n",
       "    }\n",
       "</style>\n",
       "<table border=\"1\" class=\"dataframe\">\n",
       "  <thead>\n",
       "    <tr style=\"text-align: right;\">\n",
       "      <th></th>\n",
       "      <th>primary_type</th>\n",
       "      <th>timestamp</th>\n",
       "      <th>clearance_status</th>\n",
       "      <th>district</th>\n",
       "      <th>x_coordinate</th>\n",
       "      <th>y_coordinate</th>\n",
       "      <th>year</th>\n",
       "    </tr>\n",
       "  </thead>\n",
       "  <tbody>\n",
       "    <tr>\n",
       "      <th>0</th>\n",
       "      <td>Theft: Shoplifting</td>\n",
       "      <td>04</td>\n",
       "      <td>C</td>\n",
       "      <td>B</td>\n",
       "      <td>3121345.0</td>\n",
       "      <td>10082705.0</td>\n",
       "      <td>2014.0</td>\n",
       "    </tr>\n",
       "    <tr>\n",
       "      <th>1</th>\n",
       "      <td>Theft: Shoplifting</td>\n",
       "      <td>04</td>\n",
       "      <td>C</td>\n",
       "      <td>B</td>\n",
       "      <td>3121345.0</td>\n",
       "      <td>10082705.0</td>\n",
       "      <td>2014.0</td>\n",
       "    </tr>\n",
       "    <tr>\n",
       "      <th>2</th>\n",
       "      <td>Theft: Shoplifting</td>\n",
       "      <td>04</td>\n",
       "      <td>C</td>\n",
       "      <td>B</td>\n",
       "      <td>3121345.0</td>\n",
       "      <td>10082705.0</td>\n",
       "      <td>2014.0</td>\n",
       "    </tr>\n",
       "    <tr>\n",
       "      <th>3</th>\n",
       "      <td>Theft: Shoplifting</td>\n",
       "      <td>04</td>\n",
       "      <td>C</td>\n",
       "      <td>B</td>\n",
       "      <td>3121345.0</td>\n",
       "      <td>10082705.0</td>\n",
       "      <td>2014.0</td>\n",
       "    </tr>\n",
       "    <tr>\n",
       "      <th>4</th>\n",
       "      <td>Theft: Shoplifting</td>\n",
       "      <td>04</td>\n",
       "      <td>C</td>\n",
       "      <td>B</td>\n",
       "      <td>3121345.0</td>\n",
       "      <td>10082705.0</td>\n",
       "      <td>2014.0</td>\n",
       "    </tr>\n",
       "  </tbody>\n",
       "</table>\n",
       "</div>"
      ],
      "text/plain": [
       "         primary_type timestamp clearance_status district  x_coordinate  \\\n",
       "0  Theft: Shoplifting        04                C        B     3121345.0   \n",
       "1  Theft: Shoplifting        04                C        B     3121345.0   \n",
       "2  Theft: Shoplifting        04                C        B     3121345.0   \n",
       "3  Theft: Shoplifting        04                C        B     3121345.0   \n",
       "4  Theft: Shoplifting        04                C        B     3121345.0   \n",
       "\n",
       "   y_coordinate    year  \n",
       "0    10082705.0  2014.0  \n",
       "1    10082705.0  2014.0  \n",
       "2    10082705.0  2014.0  \n",
       "3    10082705.0  2014.0  \n",
       "4    10082705.0  2014.0  "
      ]
     },
     "execution_count": 14,
     "metadata": {},
     "output_type": "execute_result"
    }
   ],
   "source": [
    "crime_data_merge_final = pd.merge(crime_data_merge,crime_data_2016, how =\"outer\")\n",
    "crime_data_merge_final.head()"
   ]
  },
  {
   "cell_type": "code",
   "execution_count": 15,
   "metadata": {},
   "outputs": [
    {
     "name": "stdout",
     "output_type": "stream",
     "text": [
      "Theft                                           51535\n",
      "Theft: All Other Larceny                        12930\n",
      "Theft: BOV                                      10290\n",
      "Burglary                                         9885\n",
      "Auto Theft                                       6134\n",
      "Agg Assault                                      3921\n",
      "Theft: Shoplifting                               3894\n",
      "Robbery                                          2576\n",
      "Aggravated Assault                               1827\n",
      "Theft: Pocket Picking                             427\n",
      "Theft: Auto Parts                                 228\n",
      "Theft: from Building                              217\n",
      "Theft: Coin Op Machine                            150\n",
      "Murder                                             48\n",
      "Homicide: Murder & Nonnegligent Manslaughter       25\n",
      "Theft: Purse Snatching                              7\n",
      "Name: primary_type, dtype: int64\n",
      "-------------------------------\n",
      "\n",
      "-Ju    8606\n",
      "-Ma    8605\n",
      "-Ap    4304\n",
      "-Ja    4289\n",
      "-Au    4238\n",
      "-De    4201\n",
      "-Oc    4129\n",
      "-Se    4094\n",
      "-No    3982\n",
      "-Fe    3609\n",
      "07     3000\n",
      "08     2942\n",
      "10     2915\n",
      "05     2822\n",
      "03     2761\n",
      "09     2756\n",
      "01     2750\n",
      "06     2711\n",
      "04     2667\n",
      "12     2642\n",
      "11     2602\n",
      "02     2428\n",
      "Feb    1825\n",
      "Mar    1782\n",
      "Nov    1780\n",
      "Jul    1779\n",
      "Oct    1765\n",
      "Jun    1763\n",
      "Sep    1748\n",
      "May    1748\n",
      "Aug    1745\n",
      "Jan    1729\n",
      "Apr    1729\n",
      "Dec    1648\n",
      "Name: timestamp, dtype: int64\n",
      "-------------------------------\n",
      "\n",
      "N    86274\n",
      "C    16244\n",
      "O     1576\n",
      "Name: clearance_status, dtype: int64\n",
      "-------------------------------\n",
      "\n",
      "D     15010\n",
      "E     13565\n",
      "F     12568\n",
      "B     12523\n",
      "I     11928\n",
      "A     11578\n",
      "H     10852\n",
      "C      7931\n",
      "G      7698\n",
      "AP      430\n",
      "88        9\n",
      "UK        2\n",
      "Name: district, dtype: int64\n",
      "-------------------------------\n",
      "\n",
      "2015.0    36125\n",
      "2016.0    34973\n",
      "2014.0    32996\n",
      "Name: year, dtype: int64\n"
     ]
    }
   ],
   "source": [
    "# Print value counts for review\n",
    "print(crime_data_merge_final[\"primary_type\"].value_counts())\n",
    "print(\"-------------------------------\\n\")\n",
    "print(crime_data_merge_final[\"timestamp\"].value_counts())\n",
    "print(\"-------------------------------\\n\")\n",
    "print(crime_data_merge_final[\"clearance_status\"].value_counts())\n",
    "print(\"-------------------------------\\n\")\n",
    "print(crime_data_merge_final[\"district\"].value_counts())\n",
    "print(\"-------------------------------\\n\")\n",
    "print(crime_data_merge_final[\"year\"].value_counts())"
   ]
  },
  {
   "cell_type": "code",
   "execution_count": 16,
   "metadata": {},
   "outputs": [
    {
     "data": {
      "text/plain": [
       "Theft: All Other Larceny                        12930\n",
       "Theft: BOV                                      10290\n",
       "Theft: Shoplifting                               3894\n",
       "Auto Theft                                       2162\n",
       "Aggravated Assault                               1827\n",
       "Robbery                                           839\n",
       "Theft: Pocket Picking                             427\n",
       "Theft: Auto Parts                                 228\n",
       "Theft: from Building                              217\n",
       "Theft: Coin Op Machine                            150\n",
       "Homicide: Murder & Nonnegligent Manslaughter       25\n",
       "Theft: Purse Snatching                              7\n",
       "Name: primary_type, dtype: int64"
      ]
     },
     "execution_count": 16,
     "metadata": {},
     "output_type": "execute_result"
    }
   ],
   "source": [
    "crime_data_2014[\"primary_type\"].value_counts()"
   ]
  },
  {
   "cell_type": "code",
   "execution_count": 17,
   "metadata": {},
   "outputs": [],
   "source": [
    "primary_type = [\"Theft\", \"Auto Theft\", \"Aggravated Assault\", \"Robbery\", \"Homicide\"]\n",
    "counts = [27915,2390,1827,839,25]\n",
    "colors = [\"red\",\"green\",\"blue\",\"orange\",\"yellow\"]\n",
    "explode = (0.1,0.1,0.1,0.1,0.3)"
   ]
  },
  {
   "cell_type": "code",
   "execution_count": 18,
   "metadata": {},
   "outputs": [
    {
     "data": {
      "image/png": "[encoded data removed]",
      "text/plain": [
       "<Figure size 432x288 with 1 Axes>"
      ]
     },
     "metadata": {},
     "output_type": "display_data"
    }
   ],
   "source": [
    "plt.pie(counts, explode=explode, labels=primary_type, colors=colors,\n",
    "        autopct=\"%1.1f%%\", shadow=True, startangle=45)\n",
    "# Create axes which are equal so we have a perfect circle\n",
    "plt.axis(\"equal\")\n",
    "plt.title('2014 Crime Data')\n",
    "# Save an image of our chart and print the final product to the screen\n",
    "#plt.savefig(\"../Images/PyPies.png\")\n",
    "plt.show()"
   ]
  },
  {
   "cell_type": "code",
   "execution_count": 19,
   "metadata": {},
   "outputs": [
    {
     "data": {
      "text/plain": [
       "Theft          26624\n",
       "Burglary        4846\n",
       "Auto Theft      1982\n",
       "Agg Assault     1829\n",
       "Robbery          826\n",
       "Murder            18\n",
       "Name: primary_type, dtype: int64"
      ]
     },
     "execution_count": 19,
     "metadata": {},
     "output_type": "execute_result"
    }
   ],
   "source": [
    "crime_data_2015[\"primary_type\"].value_counts()"
   ]
  },
  {
   "cell_type": "code",
   "execution_count": 20,
   "metadata": {},
   "outputs": [],
   "source": [
    "primary_type = [\"Theft\", \"Burglary\", \"Auto Theft\", \"Agg Assault\", \"Robbery\",\"Murder\"]\n",
    "counts = [26624,4846,1982,1829,826,18]\n",
    "colors = [\"red\",\"green\",\"blue\",\"orange\",\"yellow\",\"purple\"]\n",
    "explode = (0.1,0,0,0,0,0.3)"
   ]
  },
  {
   "cell_type": "code",
   "execution_count": 21,
   "metadata": {},
   "outputs": [
    {
     "data": {
      "image/png": "[encoded data removed]",
      "text/plain": [
       "<Figure size 432x288 with 1 Axes>"
      ]
     },
     "metadata": {},
     "output_type": "display_data"
    }
   ],
   "source": [
    "plt.pie(counts, explode=explode, labels=primary_type, colors=colors,\n",
    "        autopct=\"%1.1f%%\", shadow=True, startangle=45)\n",
    "# Create axes which are equal so we have a perfect circle\n",
    "plt.axis(\"equal\")\n",
    "plt.title('2015 Crime Data')\n",
    "# Save an image of our chart and print the final product to the screen\n",
    "#plt.savefig(\"../Images/PyPies.png\")\n",
    "plt.show()"
   ]
  },
  {
   "cell_type": "code",
   "execution_count": 22,
   "metadata": {},
   "outputs": [
    {
     "data": {
      "text/plain": [
       "Theft          24911\n",
       "Burglary        5039\n",
       "Agg Assault     2092\n",
       "Auto Theft      1990\n",
       "Robbery          911\n",
       "Murder            30\n",
       "Name: primary_type, dtype: int64"
      ]
     },
     "execution_count": 22,
     "metadata": {},
     "output_type": "execute_result"
    }
   ],
   "source": [
    "crime_data_2016[\"primary_type\"].value_counts()"
   ]
  },
  {
   "cell_type": "code",
   "execution_count": 23,
   "metadata": {},
   "outputs": [],
   "source": [
    "primary_type = [\"Theft\", \"Burglary\", \"Auto Theft\", \"Agg Assault\", \"Robbery\",\"Murder\"]\n",
    "counts = [24911,5039,2092,1990,911,30]\n",
    "colors = [\"red\",\"green\",\"blue\",\"orange\",\"yellow\",\"purple\"]\n",
    "explode = (0.1,0,0,0,0,0.3)"
   ]
  },
  {
   "cell_type": "code",
   "execution_count": 24,
   "metadata": {},
   "outputs": [
    {
     "data": {
      "image/png": "[encoded data removed]",
      "text/plain": [
       "<Figure size 432x288 with 1 Axes>"
      ]
     },
     "metadata": {},
     "output_type": "display_data"
    }
   ],
   "source": [
    "plt.pie(counts, explode=explode, labels=primary_type, colors=colors,\n",
    "        autopct=\"%1.1f%%\", shadow=True, startangle=45)\n",
    "# Create axes which are equal so we have a perfect circle\n",
    "plt.axis(\"equal\")\n",
    "plt.title('2016 Crime Data')\n",
    "# Save an image of our chart and print the final product to the screen\n",
    "#plt.savefig(\"../Images/PyPies.png\")\n",
    "plt.show()"
   ]
  },
  {
   "cell_type": "code",
   "execution_count": 25,
   "metadata": {
    "scrolled": true
   },
   "outputs": [
    {
     "data": {
      "text/plain": [
       "Theft                                           51535\n",
       "Theft: All Other Larceny                        12930\n",
       "Theft: BOV                                      10290\n",
       "Burglary                                         9885\n",
       "Auto Theft                                       6134\n",
       "Agg Assault                                      3921\n",
       "Theft: Shoplifting                               3894\n",
       "Robbery                                          2576\n",
       "Aggravated Assault                               1827\n",
       "Theft: Pocket Picking                             427\n",
       "Theft: Auto Parts                                 228\n",
       "Theft: from Building                              217\n",
       "Theft: Coin Op Machine                            150\n",
       "Murder                                             48\n",
       "Homicide: Murder & Nonnegligent Manslaughter       25\n",
       "Theft: Purse Snatching                              7\n",
       "Name: primary_type, dtype: int64"
      ]
     },
     "execution_count": 25,
     "metadata": {},
     "output_type": "execute_result"
    }
   ],
   "source": [
    "#final merged data\n",
    "crime_data_merge_final[\"primary_type\"].value_counts()"
   ]
  },
  {
   "cell_type": "code",
   "execution_count": 26,
   "metadata": {},
   "outputs": [],
   "source": [
    "primary_type = [\"Theft\", \"Burglary\", \"Auto Theft\", \"Agg Assault\", \"Robbery\",\"Murder\"]\n",
    "counts = [79450,9885,6362,3921,2576,48]\n",
    "colors = [\"red\",\"green\",\"blue\",\"orange\",\"yellow\",\"purple\"]\n",
    "explode = (0.1,0,0,0,0,0.3)"
   ]
  },
  {
   "cell_type": "code",
   "execution_count": 27,
   "metadata": {},
   "outputs": [
    {
     "data": {
      "image/png": "[encoded data removed]",
      "text/plain": [
       "<Figure size 432x288 with 1 Axes>"
      ]
     },
     "metadata": {},
     "output_type": "display_data"
    }
   ],
   "source": [
    "plt.pie(counts, explode=explode, labels=primary_type, colors=colors,\n",
    "        autopct=\"%1.1f%%\", shadow=True, startangle=45)\n",
    "# Create axes which are equal so we have a perfect circle\n",
    "plt.axis(\"equal\")\n",
    "plt.title('Crime Data 2014-2016')\n",
    "# Save an image of our chart and print the final product to the screen\n",
    "#plt.savefig(\"../Images/PyPies.png\")\n",
    "plt.show()"
   ]
  },
  {
   "cell_type": "code",
   "execution_count": 28,
   "metadata": {},
   "outputs": [
    {
     "data": {
      "text/plain": [
       "D     5226\n",
       "E     4719\n",
       "B     4691\n",
       "F     4422\n",
       "I     4118\n",
       "A     3950\n",
       "H     3508\n",
       "C     2747\n",
       "G     2577\n",
       "AP     166\n",
       "UK       1\n",
       "Name: district, dtype: int64"
      ]
     },
     "execution_count": 28,
     "metadata": {},
     "output_type": "execute_result"
    }
   ],
   "source": [
    "crime_data_2015[\"district\"].value_counts()"
   ]
  },
  {
   "cell_type": "code",
   "execution_count": 29,
   "metadata": {},
   "outputs": [],
   "source": [
    "#2015 crime rate by district \n",
    "x1 = district_D = crime_data_2015.loc[crime_data_2015[\"district\"] ==\"D\"]\n",
    "x2 = district_E = crime_data_2015.loc[crime_data_2015[\"district\"] ==\"E\"]\n",
    "x3 = district_F = crime_data_2015.loc[crime_data_2015[\"district\"] ==\"F\"]\n",
    "x4 = district_A = crime_data_2015.loc[crime_data_2015[\"district\"] ==\"A\"]\n",
    "x5 = district_I = crime_data_2015.loc[crime_data_2015[\"district\"] ==\"I\"]\n",
    "x6 = district_B = crime_data_2015.loc[crime_data_2015[\"district\"] ==\"B\"]\n",
    "x7 = district_H = crime_data_2015.loc[crime_data_2015[\"district\"] ==\"H\"]\n",
    "x8 = district_G = crime_data_2015.loc[crime_data_2015[\"district\"] ==\"G\"]\n",
    "x9 = district_C = crime_data_2015.loc[crime_data_2015[\"district\"] ==\"C\"]\n",
    "x10 = district_AP = crime_data_2015.loc[crime_data_2015[\"district\"] ==\"AP\"]"
   ]
  },
  {
   "cell_type": "code",
   "execution_count": 30,
   "metadata": {},
   "outputs": [],
   "source": [
    "#2015 crime rate by district \"D\"\n",
    "x1 = district_D = crime_data_2015.loc[crime_data_2015[\"district\"] ==\"D\"]\n",
    "primary_value_counts = x1[\"primary_type\"].value_counts()"
   ]
  },
  {
   "cell_type": "code",
   "execution_count": 31,
   "metadata": {},
   "outputs": [
    {
     "data": {
      "text/plain": [
       "Text(0,0.5,'Crime count')"
      ]
     },
     "execution_count": 31,
     "metadata": {},
     "output_type": "execute_result"
    },
    {
     "data": {
      "image/png": "[encoded data removed]",
      "text/plain": [
       "<Figure size 432x288 with 1 Axes>"
      ]
     },
     "metadata": {},
     "output_type": "display_data"
    }
   ],
   "source": [
    "primary_value_counts.plot(kind=\"bar\")\n",
    "plt.title(\"Crime data 2015 District D\")\n",
    "plt.xlabel(\"Crime Type\")\n",
    "plt.ylabel(\"Crime count\")"
   ]
  },
  {
   "cell_type": "code",
   "execution_count": 32,
   "metadata": {},
   "outputs": [],
   "source": [
    "#2015 crime rate by district \"E\"\n",
    "x2 = district_E = crime_data_2015.loc[crime_data_2015[\"district\"] ==\"E\"]\n",
    "primary_value_counts = x2[\"primary_type\"].value_counts()"
   ]
  },
  {
   "cell_type": "code",
   "execution_count": 33,
   "metadata": {},
   "outputs": [
    {
     "data": {
      "text/plain": [
       "Text(0,0.5,'Crime count')"
      ]
     },
     "execution_count": 33,
     "metadata": {},
     "output_type": "execute_result"
    },
    {
     "data": {
      "image/png": "[encoded data removed]",
      "text/plain": [
       "<Figure size 432x288 with 1 Axes>"
      ]
     },
     "metadata": {},
     "output_type": "display_data"
    }
   ],
   "source": [
    "primary_value_counts.plot(kind=\"bar\")\n",
    "plt.title(\"Crime data 2015 District E\")\n",
    "plt.xlabel(\"Crime Type\")\n",
    "plt.ylabel(\"Crime count\")"
   ]
  },
  {
   "cell_type": "code",
   "execution_count": 34,
   "metadata": {},
   "outputs": [],
   "source": [
    "#2015 crime rate by district \"F\"\n",
    "x3 = district_F = crime_data_2015.loc[crime_data_2015[\"district\"] ==\"F\"]\n",
    "primary_value_counts = x3[\"primary_type\"].value_counts()"
   ]
  },
  {
   "cell_type": "code",
   "execution_count": 35,
   "metadata": {},
   "outputs": [
    {
     "data": {
      "text/plain": [
       "Text(0,0.5,'Crime count')"
      ]
     },
     "execution_count": 35,
     "metadata": {},
     "output_type": "execute_result"
    },
    {
     "data": {
      "image/png": "[encoded data removed]",
      "text/plain": [
       "<Figure size 432x288 with 1 Axes>"
      ]
     },
     "metadata": {},
     "output_type": "display_data"
    }
   ],
   "source": [
    "primary_value_counts.plot(kind=\"bar\")\n",
    "plt.title(\"Crime data 2015 District F\")\n",
    "plt.xlabel(\"Crime Type\")\n",
    "plt.ylabel(\"Crime count\")"
   ]
  },
  {
   "cell_type": "code",
   "execution_count": 36,
   "metadata": {},
   "outputs": [],
   "source": [
    "#2015 crime rate by district \"A\"\n",
    "x4 = district_A = crime_data_2015.loc[crime_data_2015[\"district\"] ==\"A\"]\n",
    "primary_value_counts = x4[\"primary_type\"].value_counts()"
   ]
  },
  {
   "cell_type": "code",
   "execution_count": 37,
   "metadata": {},
   "outputs": [
    {
     "data": {
      "text/plain": [
       "Text(0,0.5,'Crime count')"
      ]
     },
     "execution_count": 37,
     "metadata": {},
     "output_type": "execute_result"
    },
    {
     "data": {
      "image/png": "[encoded data removed]",
      "text/plain": [
       "<Figure size 432x288 with 1 Axes>"
      ]
     },
     "metadata": {},
     "output_type": "display_data"
    }
   ],
   "source": [
    "primary_value_counts.plot(kind=\"bar\")\n",
    "plt.title(\"Crime data 2015 District A\")\n",
    "plt.xlabel(\"Crime Type\")\n",
    "plt.ylabel(\"Crime count\")"
   ]
  },
  {
   "cell_type": "code",
   "execution_count": 38,
   "metadata": {},
   "outputs": [],
   "source": [
    "#2014 crime rate by district \"I\"\n",
    "x5 = district_I = crime_data_2015.loc[crime_data_2015[\"district\"] ==\"I\"]\n",
    "primary_value_counts = x5[\"primary_type\"].value_counts()"
   ]
  },
  {
   "cell_type": "code",
   "execution_count": 39,
   "metadata": {},
   "outputs": [
    {
     "data": {
      "text/plain": [
       "Text(0,0.5,'Crime count')"
      ]
     },
     "execution_count": 39,
     "metadata": {},
     "output_type": "execute_result"
    },
    {
     "data": {
      "image/png": "[encoded data removed]",
      "text/plain": [
       "<Figure size 432x288 with 1 Axes>"
      ]
     },
     "metadata": {},
     "output_type": "display_data"
    }
   ],
   "source": [
    "primary_value_counts.plot(kind=\"bar\")\n",
    "plt.title(\"Crime data 2015 District I\")\n",
    "plt.xlabel(\"Crime Type\")\n",
    "plt.ylabel(\"Crime count\")"
   ]
  },
  {
   "cell_type": "code",
   "execution_count": 40,
   "metadata": {},
   "outputs": [],
   "source": [
    "x6 = district_B = crime_data_2015.loc[crime_data_2015[\"district\"] ==\"B\"]\n",
    "primary_value_counts = x6[\"primary_type\"].value_counts()"
   ]
  },
  {
   "cell_type": "code",
   "execution_count": 41,
   "metadata": {},
   "outputs": [
    {
     "data": {
      "text/plain": [
       "Text(0,0.5,'Crime count')"
      ]
     },
     "execution_count": 41,
     "metadata": {},
     "output_type": "execute_result"
    },
    {
     "data": {
      "image/png": "[encoded data removed]",
      "text/plain": [
       "<Figure size 432x288 with 1 Axes>"
      ]
     },
     "metadata": {},
     "output_type": "display_data"
    }
   ],
   "source": [
    "primary_value_counts.plot(kind=\"bar\")\n",
    "plt.title(\"Crime data 2015 District B\")\n",
    "plt.xlabel(\"Crime Type\")\n",
    "plt.ylabel(\"Crime count\")"
   ]
  },
  {
   "cell_type": "code",
   "execution_count": 42,
   "metadata": {},
   "outputs": [],
   "source": [
    "x7 = district_H= crime_data_2015.loc[crime_data_2015[\"district\"] ==\"H\"]\n",
    "primary_value_counts = x7[\"primary_type\"].value_counts()"
   ]
  },
  {
   "cell_type": "code",
   "execution_count": 43,
   "metadata": {},
   "outputs": [
    {
     "data": {
      "text/plain": [
       "Text(0,0.5,'Crime count')"
      ]
     },
     "execution_count": 43,
     "metadata": {},
     "output_type": "execute_result"
    },
    {
     "data": {
      "image/png": "[encoded data removed]",
      "text/plain": [
       "<Figure size 432x288 with 1 Axes>"
      ]
     },
     "metadata": {},
     "output_type": "display_data"
    }
   ],
   "source": [
    "primary_value_counts.plot(kind=\"bar\")\n",
    "plt.title(\"Crime data 2015 District H\")\n",
    "plt.xlabel(\"Crime Type\")\n",
    "plt.ylabel(\"Crime count\")"
   ]
  },
  {
   "cell_type": "code",
   "execution_count": 44,
   "metadata": {},
   "outputs": [],
   "source": [
    "x8 = district_G = crime_data_2015.loc[crime_data_2015[\"district\"] ==\"G\"]\n",
    "primary_value_counts = x8[\"primary_type\"].value_counts()"
   ]
  },
  {
   "cell_type": "code",
   "execution_count": 45,
   "metadata": {},
   "outputs": [
    {
     "data": {
      "text/plain": [
       "Text(0,0.5,'Crime count')"
      ]
     },
     "execution_count": 45,
     "metadata": {},
     "output_type": "execute_result"
    },
    {
     "data": {
      "image/png": "[encoded data removed]",
      "text/plain": [
       "<Figure size 432x288 with 1 Axes>"
      ]
     },
     "metadata": {},
     "output_type": "display_data"
    }
   ],
   "source": [
    "primary_value_counts.plot(kind=\"bar\")\n",
    "plt.title(\"Crime data 2015 District G\")\n",
    "plt.xlabel(\"Crime Type\")\n",
    "plt.ylabel(\"Crime count\")"
   ]
  },
  {
   "cell_type": "code",
   "execution_count": 46,
   "metadata": {},
   "outputs": [],
   "source": [
    "x9 = district_C = crime_data_2015.loc[crime_data_2015[\"district\"] ==\"C\"]\n",
    "primary_value_counts = x9[\"primary_type\"].value_counts()"
   ]
  },
  {
   "cell_type": "code",
   "execution_count": 47,
   "metadata": {},
   "outputs": [
    {
     "data": {
      "text/plain": [
       "Text(0,0.5,'Crime count')"
      ]
     },
     "execution_count": 47,
     "metadata": {},
     "output_type": "execute_result"
    },
    {
     "data": {
      "image/png": "[encoded data removed]",
      "text/plain": [
       "<Figure size 432x288 with 1 Axes>"
      ]
     },
     "metadata": {},
     "output_type": "display_data"
    }
   ],
   "source": [
    "primary_value_counts.plot(kind=\"bar\")\n",
    "plt.title(\"Crime data 2015 District C\")\n",
    "plt.xlabel(\"Crime Type\")\n",
    "plt.ylabel(\"Crime count\")"
   ]
  },
  {
   "cell_type": "code",
   "execution_count": 48,
   "metadata": {},
   "outputs": [],
   "source": [
    "x10 = district_AP = crime_data_2015.loc[crime_data_2015[\"district\"] ==\"AP\"]\n",
    "primary_value_counts = x10[\"primary_type\"].value_counts()"
   ]
  },
  {
   "cell_type": "code",
   "execution_count": 49,
   "metadata": {},
   "outputs": [
    {
     "data": {
      "text/plain": [
       "Text(0,0.5,'Crime count')"
      ]
     },
     "execution_count": 49,
     "metadata": {},
     "output_type": "execute_result"
    },
    {
     "data": {
      "image/png": "[encoded data removed]",
      "text/plain": [
       "<Figure size 432x288 with 1 Axes>"
      ]
     },
     "metadata": {},
     "output_type": "display_data"
    }
   ],
   "source": [
    "primary_value_counts.plot(kind=\"bar\")\n",
    "plt.title(\"Crime data 2015 District AP\")\n",
    "plt.xlabel(\"Crime Type\")\n",
    "plt.ylabel(\"Crime count\")"
   ]
  },
  {
   "cell_type": "code",
   "execution_count": 50,
   "metadata": {},
   "outputs": [
    {
     "data": {
      "text/plain": [
       "D     5083\n",
       "E     4409\n",
       "F     4172\n",
       "B     4159\n",
       "I     4065\n",
       "H     3957\n",
       "A     3793\n",
       "C     2653\n",
       "G     2518\n",
       "AP     154\n",
       "88       9\n",
       "UK       1\n",
       "Name: district, dtype: int64"
      ]
     },
     "execution_count": 50,
     "metadata": {},
     "output_type": "execute_result"
    }
   ],
   "source": [
    "crime_data_2016[\"district\"].value_counts()"
   ]
  },
  {
   "cell_type": "code",
   "execution_count": 51,
   "metadata": {},
   "outputs": [],
   "source": [
    "x1 = district_D = crime_data_2016.loc[crime_data_2016[\"district\"] ==\"D\"]\n",
    "x2 = district_E = crime_data_2016.loc[crime_data_2016[\"district\"] ==\"E\"]\n",
    "x3 = district_F = crime_data_2016.loc[crime_data_2016[\"district\"] ==\"F\"]\n",
    "x4 = district_A = crime_data_2016.loc[crime_data_2016[\"district\"] ==\"A\"]\n",
    "x5 = district_I = crime_data_2016.loc[crime_data_2016[\"district\"] ==\"I\"]\n",
    "x6 = district_B = crime_data_2016.loc[crime_data_2016[\"district\"] ==\"B\"]\n",
    "x7 = district_H = crime_data_2016.loc[crime_data_2016[\"district\"] ==\"H\"]\n",
    "x8 = district_G = crime_data_2016.loc[crime_data_2016[\"district\"] ==\"G\"]\n",
    "x9 = district_C = crime_data_2016.loc[crime_data_2016[\"district\"] ==\"C\"]\n",
    "x10 = district_AP = crime_data_2016.loc[crime_data_2016[\"district\"] ==\"AP\"]"
   ]
  },
  {
   "cell_type": "code",
   "execution_count": 52,
   "metadata": {},
   "outputs": [],
   "source": [
    "#2016 crime rate by district \"D\"\n",
    "x1 = district_D = crime_data_2016.loc[crime_data_2016[\"district\"] ==\"D\"]\n",
    "primary_value_counts = x1[\"primary_type\"].value_counts()"
   ]
  },
  {
   "cell_type": "code",
   "execution_count": 53,
   "metadata": {},
   "outputs": [
    {
     "data": {
      "text/plain": [
       "Text(0,0.5,'Crime count')"
      ]
     },
     "execution_count": 53,
     "metadata": {},
     "output_type": "execute_result"
    },
    {
     "data": {
      "image/png": "[encoded data removed]",
      "text/plain": [
       "<Figure size 432x288 with 1 Axes>"
      ]
     },
     "metadata": {},
     "output_type": "display_data"
    }
   ],
   "source": [
    "primary_value_counts.plot(kind=\"bar\")\n",
    "plt.title(\"Crime data 2016 District D\")\n",
    "plt.xlabel(\"Crime Type\")\n",
    "plt.ylabel(\"Crime count\")"
   ]
  },
  {
   "cell_type": "code",
   "execution_count": 54,
   "metadata": {},
   "outputs": [],
   "source": [
    "#2016 crime rate by district \"E\"\n",
    "x2 = district_E = crime_data_2016.loc[crime_data_2016[\"district\"] ==\"E\"]\n",
    "primary_value_counts = x2[\"primary_type\"].value_counts()"
   ]
  },
  {
   "cell_type": "code",
   "execution_count": 55,
   "metadata": {},
   "outputs": [
    {
     "data": {
      "text/plain": [
       "Text(0,0.5,'Crime count')"
      ]
     },
     "execution_count": 55,
     "metadata": {},
     "output_type": "execute_result"
    },
    {
     "data": {
      "image/png": "[encoded data removed]",
      "text/plain": [
       "<Figure size 432x288 with 1 Axes>"
      ]
     },
     "metadata": {},
     "output_type": "display_data"
    }
   ],
   "source": [
    "primary_value_counts.plot(kind=\"bar\")\n",
    "plt.title(\"Crime data 2016 District E\")\n",
    "plt.xlabel(\"Crime Type\")\n",
    "plt.ylabel(\"Crime count\")"
   ]
  },
  {
   "cell_type": "code",
   "execution_count": 56,
   "metadata": {},
   "outputs": [],
   "source": [
    "#2016 crime rate by district \"F\"\n",
    "x3 = district_F = crime_data_2016.loc[crime_data_2016[\"district\"] ==\"F\"]\n",
    "primary_value_counts = x3[\"primary_type\"].value_counts()"
   ]
  },
  {
   "cell_type": "code",
   "execution_count": 57,
   "metadata": {},
   "outputs": [
    {
     "data": {
      "text/plain": [
       "Text(0,0.5,'Crime count')"
      ]
     },
     "execution_count": 57,
     "metadata": {},
     "output_type": "execute_result"
    },
    {
     "data": {
      "image/png": "[encoded data removed]",
      "text/plain": [
       "<Figure size 432x288 with 1 Axes>"
      ]
     },
     "metadata": {},
     "output_type": "display_data"
    }
   ],
   "source": [
    "primary_value_counts.plot(kind=\"bar\")\n",
    "plt.title(\"Crime data 2016 District F\")\n",
    "plt.xlabel(\"Crime Type\")\n",
    "plt.ylabel(\"Crime count\")"
   ]
  },
  {
   "cell_type": "code",
   "execution_count": 58,
   "metadata": {},
   "outputs": [],
   "source": [
    "#2016 crime rate by district \"A\"\n",
    "x4 = district_A = crime_data_2016.loc[crime_data_2016[\"district\"] ==\"A\"]\n",
    "primary_value_counts = x4[\"primary_type\"].value_counts()"
   ]
  },
  {
   "cell_type": "code",
   "execution_count": 59,
   "metadata": {},
   "outputs": [
    {
     "data": {
      "text/plain": [
       "Text(0,0.5,'Crime count')"
      ]
     },
     "execution_count": 59,
     "metadata": {},
     "output_type": "execute_result"
    },
    {
     "data": {
      "image/png": "[encoded data removed]",
      "text/plain": [
       "<Figure size 432x288 with 1 Axes>"
      ]
     },
     "metadata": {},
     "output_type": "display_data"
    }
   ],
   "source": [
    "primary_value_counts.plot(kind=\"bar\")\n",
    "plt.title(\"Crime data 2016 District A\")\n",
    "plt.xlabel(\"Crime Type\")\n",
    "plt.ylabel(\"Crime count\")"
   ]
  },
  {
   "cell_type": "code",
   "execution_count": 60,
   "metadata": {},
   "outputs": [],
   "source": [
    "#2016 crime rate by district \"I\"\n",
    "x5 = district_I = crime_data_2016.loc[crime_data_2016[\"district\"] ==\"I\"]\n",
    "primary_value_counts = x5[\"primary_type\"].value_counts()"
   ]
  },
  {
   "cell_type": "code",
   "execution_count": 61,
   "metadata": {},
   "outputs": [
    {
     "data": {
      "text/plain": [
       "Text(0,0.5,'Crime count')"
      ]
     },
     "execution_count": 61,
     "metadata": {},
     "output_type": "execute_result"
    },
    {
     "data": {
      "image/png": "[encoded data removed]",
      "text/plain": [
       "<Figure size 432x288 with 1 Axes>"
      ]
     },
     "metadata": {},
     "output_type": "display_data"
    }
   ],
   "source": [
    "primary_value_counts.plot(kind=\"bar\")\n",
    "plt.title(\"Crime data 2016 District I\")\n",
    "plt.xlabel(\"Crime Type\")\n",
    "plt.ylabel(\"Crime count\")"
   ]
  },
  {
   "cell_type": "code",
   "execution_count": 62,
   "metadata": {},
   "outputs": [],
   "source": [
    "#2016 crime rate by district \"B\"\n",
    "x6 = district_B = crime_data_2016.loc[crime_data_2016[\"district\"] ==\"B\"]\n",
    "primary_value_counts = x6[\"primary_type\"].value_counts()"
   ]
  },
  {
   "cell_type": "code",
   "execution_count": 63,
   "metadata": {},
   "outputs": [
    {
     "data": {
      "text/plain": [
       "Text(0,0.5,'Crime count')"
      ]
     },
     "execution_count": 63,
     "metadata": {},
     "output_type": "execute_result"
    },
    {
     "data": {
      "image/png": "[encoded data removed]",
      "text/plain": [
       "<Figure size 432x288 with 1 Axes>"
      ]
     },
     "metadata": {},
     "output_type": "display_data"
    }
   ],
   "source": [
    "primary_value_counts.plot(kind=\"bar\")\n",
    "plt.title(\"Crime data 2016 District B\")\n",
    "plt.xlabel(\"Crime Type\")\n",
    "plt.ylabel(\"Crime count\")"
   ]
  },
  {
   "cell_type": "code",
   "execution_count": 64,
   "metadata": {},
   "outputs": [],
   "source": [
    "#2016 crime rate by district \"H\"\n",
    "x7 = district_H = crime_data_2016.loc[crime_data_2016[\"district\"] ==\"H\"]\n",
    "primary_value_counts = x7[\"primary_type\"].value_counts()"
   ]
  },
  {
   "cell_type": "code",
   "execution_count": 65,
   "metadata": {},
   "outputs": [
    {
     "data": {
      "text/plain": [
       "Text(0,0.5,'Crime count')"
      ]
     },
     "execution_count": 65,
     "metadata": {},
     "output_type": "execute_result"
    },
    {
     "data": {
      "image/png": "[encoded data removed]",
      "text/plain": [
       "<Figure size 432x288 with 1 Axes>"
      ]
     },
     "metadata": {},
     "output_type": "display_data"
    }
   ],
   "source": [
    "primary_value_counts.plot(kind=\"bar\")\n",
    "plt.title(\"Crime data 2016 District H\")\n",
    "plt.xlabel(\"Crime Type\")\n",
    "plt.ylabel(\"Crime count\")"
   ]
  },
  {
   "cell_type": "code",
   "execution_count": 66,
   "metadata": {},
   "outputs": [],
   "source": [
    "#2016 crime rate by district \"G\"\n",
    "x8 = district_G = crime_data_2016.loc[crime_data_2016[\"district\"] ==\"G\"]\n",
    "primary_value_counts = x8[\"primary_type\"].value_counts()"
   ]
  },
  {
   "cell_type": "code",
   "execution_count": 67,
   "metadata": {},
   "outputs": [
    {
     "data": {
      "text/plain": [
       "Text(0,0.5,'Crime count')"
      ]
     },
     "execution_count": 67,
     "metadata": {},
     "output_type": "execute_result"
    },
    {
     "data": {
      "image/png": "[encoded data removed]",
      "text/plain": [
       "<Figure size 432x288 with 1 Axes>"
      ]
     },
     "metadata": {},
     "output_type": "display_data"
    }
   ],
   "source": [
    "primary_value_counts.plot(kind=\"bar\")\n",
    "plt.title(\"Crime data 2016 District G\")\n",
    "plt.xlabel(\"Crime Type\")\n",
    "plt.ylabel(\"Crime count\")"
   ]
  },
  {
   "cell_type": "code",
   "execution_count": 68,
   "metadata": {},
   "outputs": [],
   "source": [
    "#2016 crime rate by district \"G\"\n",
    "x8 = district_G = crime_data_2016.loc[crime_data_2016[\"district\"] ==\"G\"]\n",
    "primary_value_counts = x8[\"primary_type\"].value_counts()"
   ]
  },
  {
   "cell_type": "code",
   "execution_count": 69,
   "metadata": {},
   "outputs": [
    {
     "data": {
      "text/plain": [
       "Text(0,0.5,'Crime count')"
      ]
     },
     "execution_count": 69,
     "metadata": {},
     "output_type": "execute_result"
    },
    {
     "data": {
      "image/png": "[encoded data removed]",
      "text/plain": [
       "<Figure size 432x288 with 1 Axes>"
      ]
     },
     "metadata": {},
     "output_type": "display_data"
    }
   ],
   "source": [
    "primary_value_counts.plot(kind=\"bar\")\n",
    "plt.title(\"Crime data 2016 District G\")\n",
    "plt.xlabel(\"Crime Type\")\n",
    "plt.ylabel(\"Crime count\")"
   ]
  },
  {
   "cell_type": "code",
   "execution_count": 70,
   "metadata": {},
   "outputs": [],
   "source": [
    "#2016 crime rate by district \"C\"\n",
    "x9 = district_C = crime_data_2016.loc[crime_data_2016[\"district\"] ==\"C\"]\n",
    "primary_value_counts = x9[\"primary_type\"].value_counts()"
   ]
  },
  {
   "cell_type": "code",
   "execution_count": 71,
   "metadata": {},
   "outputs": [
    {
     "data": {
      "text/plain": [
       "Text(0,0.5,'Crime count')"
      ]
     },
     "execution_count": 71,
     "metadata": {},
     "output_type": "execute_result"
    },
    {
     "data": {
      "image/png": "[encoded data removed]",
      "text/plain": [
       "<Figure size 432x288 with 1 Axes>"
      ]
     },
     "metadata": {},
     "output_type": "display_data"
    }
   ],
   "source": [
    "primary_value_counts.plot(kind=\"bar\")\n",
    "plt.title(\"Crime data 2016 District C\")\n",
    "plt.xlabel(\"Crime Type\")\n",
    "plt.ylabel(\"Crime count\")"
   ]
  },
  {
   "cell_type": "code",
   "execution_count": 72,
   "metadata": {},
   "outputs": [],
   "source": [
    "#2016 crime rate by district \"AP\"\n",
    "x10 = district_AP = crime_data_2016.loc[crime_data_2016[\"district\"] ==\"AP\"]\n",
    "primary_value_counts = x10[\"primary_type\"].value_counts()"
   ]
  },
  {
   "cell_type": "code",
   "execution_count": 73,
   "metadata": {},
   "outputs": [
    {
     "data": {
      "text/plain": [
       "Text(0,0.5,'Crime count')"
      ]
     },
     "execution_count": 73,
     "metadata": {},
     "output_type": "execute_result"
    },
    {
     "data": {
      "image/png": "[encoded data removed]",
      "text/plain": [
       "<Figure size 432x288 with 1 Axes>"
      ]
     },
     "metadata": {},
     "output_type": "display_data"
    }
   ],
   "source": [
    "primary_value_counts.plot(kind=\"bar\")\n",
    "plt.title(\"Crime data 2016 District AP\")\n",
    "plt.xlabel(\"Crime Type\")\n",
    "plt.ylabel(\"Crime count\")"
   ]
  },
  {
   "cell_type": "code",
   "execution_count": 134,
   "metadata": {},
   "outputs": [],
   "source": [
    "year_2014 = crime_data_2014[\"primary_type\"].value_counts()\n",
    "year_2015 = crime_data_2015[\"primary_type\"].value_counts()\n",
    "year_2016 = crime_data_2016[\"primary_type\"].value_counts()\n",
    "\n",
    "year_2014 = list(year_2014.values)\n",
    "year_2015 = list(year_2015.values)\n",
    "year_2016 = list(year_2016.values)\n"
   ]
  },
  {
   "cell_type": "code",
   "execution_count": 135,
   "metadata": {},
   "outputs": [
    {
     "data": {
      "text/plain": [
       "[12930, 10290, 3894, 2162, 1827, 839, 427, 228, 217, 150, 25, 7]"
      ]
     },
     "execution_count": 135,
     "metadata": {},
     "output_type": "execute_result"
    }
   ],
   "source": [
    "year_2014"
   ]
  },
  {
   "cell_type": "code",
   "execution_count": 137,
   "metadata": {
    "scrolled": true
   },
   "outputs": [
    {
     "ename": "NameError",
     "evalue": "name 'crime_data_201' is not defined",
     "output_type": "error",
     "traceback": [
      "\u001b[1;31m---------------------------------------------------------------------------\u001b[0m",
      "\u001b[1;31mNameError\u001b[0m                                 Traceback (most recent call last)",
      "\u001b[1;32m<ipython-input-137-41abbec4a683>\u001b[0m in \u001b[0;36m<module>\u001b[1;34m()\u001b[0m\n\u001b[1;32m----> 1\u001b[1;33m x = [crime_data_201[\"primary_type\"].value_counts(),\n\u001b[0m\u001b[0;32m      2\u001b[0m      crime_data_201[\"district\"].value_counts()]\n\u001b[0;32m      3\u001b[0m \u001b[0my\u001b[0m \u001b[1;33m=\u001b[0m \u001b[1;33m[\u001b[0m\u001b[1;34m\"Theft\"\u001b[0m\u001b[1;33m,\u001b[0m \u001b[1;34m\"Burglary\"\u001b[0m\u001b[1;33m,\u001b[0m \u001b[1;34m\"Auto Theft\"\u001b[0m\u001b[1;33m,\u001b[0m \u001b[1;34m\"Agg Assault\"\u001b[0m\u001b[1;33m,\u001b[0m \u001b[1;34m\"Robbery\"\u001b[0m\u001b[1;33m,\u001b[0m\u001b[1;34m\"Murder\"\u001b[0m\u001b[1;33m]\u001b[0m\u001b[1;33m\u001b[0m\u001b[0m\n\u001b[0;32m      4\u001b[0m \u001b[0mz\u001b[0m\u001b[1;33m=\u001b[0m\u001b[1;33m[\u001b[0m\u001b[1;36m1\u001b[0m\u001b[1;33m,\u001b[0m\u001b[1;36m2\u001b[0m\u001b[1;33m,\u001b[0m\u001b[1;36m3\u001b[0m\u001b[1;33m,\u001b[0m\u001b[1;36m3\u001b[0m\u001b[1;33m,\u001b[0m\u001b[1;36m3\u001b[0m\u001b[1;33m]\u001b[0m\u001b[1;33m\u001b[0m\u001b[0m\n\u001b[0;32m      5\u001b[0m \u001b[0mk\u001b[0m\u001b[1;33m=\u001b[0m\u001b[1;33m[\u001b[0m\u001b[1;36m11\u001b[0m\u001b[1;33m,\u001b[0m\u001b[1;36m12\u001b[0m\u001b[1;33m,\u001b[0m\u001b[1;36m13\u001b[0m\u001b[1;33m]\u001b[0m\u001b[1;33m\u001b[0m\u001b[0m\n",
      "\u001b[1;31mNameError\u001b[0m: name 'crime_data_201' is not defined"
     ]
    }
   ],
   "source": [
    "x = [crime_data_201[\"primary_type\"].value_counts(),\n",
    "     crime_data_201[\"district\"].value_counts()]\n",
    "y = [\"Theft\", \"Burglary\", \"Auto Theft\", \"Agg Assault\", \"Robbery\",\"Murder\"]\n",
    "z=[1,2,3,3,3]\n",
    "k=[11,12,13]\n",
    "\n",
    "\n",
    "\n",
    "ax = plt.subplot(111)\n",
    "ax.bar(np.arange(12)-15, year_2014,color='b',align='center')\n",
    "ax.bar(np.arange(6), year_2015,color='g',align='center')\n",
    "ax.bar(np.arange(6)+7, year_2016,color='r',align='center')\n",
    "plt.show()"
   ]
  },
  {
   "cell_type": "code",
   "execution_count": 87,
   "metadata": {},
   "outputs": [
    {
     "name": "stdout",
     "output_type": "stream",
     "text": [
      "Theft         135\n",
      "Auto Theft     18\n",
      "Burglary        1\n",
      "Name: primary_type, dtype: int64\n"
     ]
    }
   ],
   "source": [
    "print (primary_value_counts)"
   ]
  },
  {
   "cell_type": "code",
   "execution_count": 91,
   "metadata": {},
   "outputs": [
    {
     "data": {
      "text/plain": [
       "<BarContainer object of 3 artists>"
      ]
     },
     "execution_count": 91,
     "metadata": {},
     "output_type": "execute_result"
    },
    {
     "data": {
      "image/png": "[encoded data removed]",
      "text/plain": [
       "<Figure size 432x288 with 1 Axes>"
      ]
     },
     "metadata": {},
     "output_type": "display_data"
    }
   ],
   "source": [
    "ind = np.arange(len(primary_value_counts))\n",
    "\n",
    "fig, ax = plt.subplots()\n",
    "\n",
    "ax.bar(ind,primary_value_counts['Theft'], color = \"SkyBlue\")\n",
    "ax.bar(ind,primary_value_counts['Burglary'], color = \"Red\")\n",
    "ax.bar(ind,primary_value_counts['Auto Theft'], color = \"Red\")\n"
   ]
  },
  {
   "cell_type": "code",
   "execution_count": null,
   "metadata": {},
   "outputs": [],
   "source": []
  }
 ],
 "metadata": {
  "kernelspec": {
   "display_name": "Python 3",
   "language": "python",
   "name": "python3"
  },
  "language_info": {
   "codemirror_mode": {
    "name": "ipython",
    "version": 3
   },
   "file_extension": ".py",
   "mimetype": "text/x-python",
   "name": "python",
   "nbconvert_exporter": "python",
   "pygments_lexer": "ipython3",
   "version": "3.6.5"
  }
 },
 "nbformat": 4,
 "nbformat_minor": 2
}
