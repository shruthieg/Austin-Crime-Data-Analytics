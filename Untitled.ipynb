{
 "cells": [
  {
   "cell_type": "code",
   "execution_count": 1,
   "metadata": {},
   "outputs": [
    {
     "ename": "NameError",
     "evalue": "name 'crime_data_2016' is not defined",
     "output_type": "error",
     "traceback": [
      "\u001b[1;31m---------------------------------------------------------------------------\u001b[0m",
      "\u001b[1;31mNameError\u001b[0m                                 Traceback (most recent call last)",
      "\u001b[1;32m<ipython-input-1-f1d9f37fd3af>\u001b[0m in \u001b[0;36m<module>\u001b[1;34m()\u001b[0m\n\u001b[0;32m      2\u001b[0m \u001b[0mx_loc\u001b[0m\u001b[1;33m=\u001b[0m\u001b[1;33m[\u001b[0m\u001b[1;34m'2014'\u001b[0m\u001b[1;33m,\u001b[0m\u001b[1;34m'2015'\u001b[0m\u001b[1;33m,\u001b[0m\u001b[1;34m'2016'\u001b[0m\u001b[1;33m]\u001b[0m\u001b[1;33m\u001b[0m\u001b[0m\n\u001b[0;32m      3\u001b[0m \u001b[0mincident_type_2014\u001b[0m \u001b[1;33m=\u001b[0m \u001b[1;33m[\u001b[0m\u001b[1;34m'Homicide'\u001b[0m\u001b[1;33m,\u001b[0m\u001b[1;34m'Robbery'\u001b[0m\u001b[1;33m,\u001b[0m\u001b[1;34m'Aggravated Assault'\u001b[0m\u001b[1;33m,\u001b[0m\u001b[1;34m'Auto\\nTheft'\u001b[0m\u001b[1;33m,\u001b[0m\u001b[1;34m'Burglary'\u001b[0m\u001b[1;33m,\u001b[0m\u001b[1;34m'Theft'\u001b[0m\u001b[1;33m]\u001b[0m\u001b[1;33m\u001b[0m\u001b[0m\n\u001b[1;32m----> 4\u001b[1;33m \u001b[0mslimmed_data\u001b[0m \u001b[1;33m=\u001b[0m \u001b[0mcrime_data_2016\u001b[0m\u001b[1;33m[\u001b[0m\u001b[1;33m[\u001b[0m\u001b[1;34m'primary_type'\u001b[0m\u001b[1;33m,\u001b[0m \u001b[1;34m'timestamp'\u001b[0m\u001b[1;33m]\u001b[0m\u001b[1;33m]\u001b[0m\u001b[1;33m\u001b[0m\u001b[0m\n\u001b[0m\u001b[0;32m      5\u001b[0m \u001b[0mtest\u001b[0m \u001b[1;33m=\u001b[0m \u001b[0mpd\u001b[0m\u001b[1;33m.\u001b[0m\u001b[0mget_dummies\u001b[0m\u001b[1;33m(\u001b[0m\u001b[0mslimmed_data\u001b[0m\u001b[1;33m,\u001b[0m \u001b[0mcolumns\u001b[0m\u001b[1;33m=\u001b[0m\u001b[1;33m[\u001b[0m\u001b[1;34m'primary_type'\u001b[0m\u001b[1;33m]\u001b[0m\u001b[1;33m)\u001b[0m\u001b[1;33m\u001b[0m\u001b[0m\n\u001b[0;32m      6\u001b[0m \u001b[0mgrouped\u001b[0m \u001b[1;33m=\u001b[0m \u001b[0mtest\u001b[0m\u001b[1;33m.\u001b[0m\u001b[0mgroupby\u001b[0m\u001b[1;33m(\u001b[0m\u001b[1;34m'timestamp'\u001b[0m\u001b[1;33m)\u001b[0m\u001b[1;33m.\u001b[0m\u001b[0msum\u001b[0m\u001b[1;33m(\u001b[0m\u001b[1;33m)\u001b[0m\u001b[1;33m\u001b[0m\u001b[0m\n",
      "\u001b[1;31mNameError\u001b[0m: name 'crime_data_2016' is not defined"
     ]
    }
   ],
   "source": [
    "months=['Jan','Feb','Mar','Apr','May','Jun','Jul','Aug','Sep','Oct','Nov','Dec']\n",
    "x_loc=['2014','2015','2016']\n",
    "incident_type_2014 = ['Homicide','Robbery','Aggravated Assault','Auto\\nTheft','Burglary','Theft']\n",
    "slimmed_data = crime_data_2016[['primary_type', 'timestamp']]\n",
    "test = pd.get_dummies(slimmed_data, columns=['primary_type'])\n",
    "grouped = test.groupby('timestamp').sum()\n",
    "Austin_Population = 931,830\n",
    "Austin_Population = 931830 / 100000\n",
    "crimes_popl_2016 = (grouped /Austin_Population)\n",
    "crimes_popl_2016.reset_index()\n",
    "crimes_popl_2016['primary_type_Agg Assault'].sum()\n",
    "crimes_popl_2016['primary_type_Auto Theft'].sum()\n",
    "crimes_popl_2016['primary_type_Burglary'].sum()\n",
    "crimes_popl_2016['primary_type_Homicide'].sum()\n",
    "crimes_popl_2016['primary_type_Robbery'].sum()\n",
    "crimes_popl_2016['primary_type_Theft'].sum()\n",
    "# values_2014 = [25,839,1827,2162,0,28143]\n",
    "values_2015 = [18,826,1829,1982,4846,26624]\n",
    "values_2016 = [30,911,1990,2092,5039,24911]\n",
    "p1_2014 = plt.bar(x_loc[0],values_2014[0], width=0.3, color='orange')\n",
    "p2_2014 = plt.bar(x_loc[0], values_2014[1], bottom=values_2014[0], width=0.3, color='lightblue')\n",
    "p3_2014 = plt.bar(x_loc[0], values_2014[2], bottom=values_2014[1], width=0.3, color='red')\n",
    "p4_2014 = plt.bar(x_loc[0], values_2014[3], bottom=values_2014[2], width=0.3, color='lightgreen')\n",
    "p5_2014 = plt.bar(x_loc[0], values_2014[4], bottom=values_2014[3], width=0.3, color='purple')\n",
    "p6_2014 = plt.bar(x_loc[0], values_2014[5], bottom=values_2014[4], width=0.3, color='blue')\n",
    "p1_2015 = plt.bar(x_loc[1],values_2015[0], width=0.3, color='orange')\n",
    "p2_2015 = plt.bar(x_loc[1], values_2015[1], bottom=values_2015[0], width=0.3, color='lightblue')\n",
    "p3_2015 = plt.bar(x_loc[1], values_2015[2], bottom=values_2015[1], width=0.3, color='red')\n",
    "p4_2015 = plt.bar(x_loc[1], values_2015[3], bottom=values_2015[2], width=0.3, color='lightgreen')\n",
    "p5_2015 = plt.bar(x_loc[1], values_2015[4], bottom=values_2015[3], width=0.3, color='purple')\n",
    "p6_2015 = plt.bar(x_loc[1], values_2015[5], bottom=values_2015[4], width=0.3, color='blue')\n",
    "p1_2016 = plt.bar(x_loc[2],values_2016[0], width=0.3, color='orange')\n",
    "p2_2016 = plt.bar(x_loc[2], values_2016[1], bottom=values_2016[0], width=0.3, color='lightblue')\n",
    "p3_2016 = plt.bar(x_loc[2], values_2016[2], bottom=values_2016[1], width=0.3, color='red')\n",
    "p4_2016 = plt.bar(x_loc[2], values_2016[3], bottom=values_2016[2], width=0.3, color='lightgreen')\n",
    "p5_2016 = plt.bar(x_loc[2], values_2016[4], bottom=values_2016[3], width=0.3, color='purple')\n",
    "p6_2016 = plt.bar(x_loc[2], values_2016[5], bottom=values_2016[4], width=0.3, color='blue')\n",
    "plt.xticks(x_loc)\n",
    "plt.ylabel('CRIME RATE')\n",
    "plt.title('CRIME RATE FROM 2014-2016 IN CITY OF AUSTIN')\n",
    "plt.legend(incident_type_2014, bbox_to_anchor=(1.1,0.5), loc=\"right\",bbox_transform=plt.gcf().transFigure)\n",
    "plt.show()"
   ]
  },
  {
   "cell_type": "code",
   "execution_count": null,
   "metadata": {},
   "outputs": [],
   "source": [
    "# crime_data_merge = pd.merge(crime_data_2014,crime_data_2015, how =\"outer\")\n",
    "# crime_data_merge_final = pd.merge(crime_data_merge,crime_data_2016, how =\"outer\")\n",
    "# crime_data_merge_final.count()\n",
    "# crime_data_merge_final.plot(kind='bar')\n",
    "# plt.show()\n",
    "# # crimetype = crime_data_merge_final.groupby(\"primary_type\")\n",
    "# crimetype\n",
    "# total_crimetype = crimetype.sum()\n",
    "# total_crimetype\n",
    "#total_crimetype.sort_values(by='primary_type').head()"
   ]
  }
 ],
 "metadata": {
  "kernelspec": {
   "display_name": "Python 3",
   "language": "python",
   "name": "python3"
  },
  "language_info": {
   "codemirror_mode": {
    "name": "ipython",
    "version": 3
   },
   "file_extension": ".py",
   "mimetype": "text/x-python",
   "name": "python",
   "nbconvert_exporter": "python",
   "pygments_lexer": "ipython3",
   "version": "3.6.5"
  }
 },
 "nbformat": 4,
 "nbformat_minor": 2
}
