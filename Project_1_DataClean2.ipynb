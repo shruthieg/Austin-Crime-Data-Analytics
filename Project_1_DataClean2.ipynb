{
 "cells": [
  {
   "cell_type": "code",
   "execution_count": 6,
   "metadata": {},
   "outputs": [
    {
     "ename": "FileNotFoundError",
     "evalue": "File b'austin_crime.csv' does not exist",
     "output_type": "error",
     "traceback": [
      "\u001b[1;31m---------------------------------------------------------------------------\u001b[0m",
      "\u001b[1;31mFileNotFoundError\u001b[0m                         Traceback (most recent call last)",
      "\u001b[1;32m<ipython-input-6-7b9cb41adc05>\u001b[0m in \u001b[0;36m<module>\u001b[1;34m()\u001b[0m\n\u001b[0;32m     10\u001b[0m \u001b[1;33m\u001b[0m\u001b[0m\n\u001b[0;32m     11\u001b[0m \u001b[1;31m# Read crime report files and store into pandas data frame\u001b[0m\u001b[1;33m\u001b[0m\u001b[1;33m\u001b[0m\u001b[0m\n\u001b[1;32m---> 12\u001b[1;33m \u001b[0mcrime_data_2014\u001b[0m \u001b[1;33m=\u001b[0m \u001b[0mpd\u001b[0m\u001b[1;33m.\u001b[0m\u001b[0mread_csv\u001b[0m\u001b[1;33m(\u001b[0m\u001b[0mfile_2014\u001b[0m\u001b[1;33m)\u001b[0m\u001b[1;33m\u001b[0m\u001b[0m\n\u001b[0m\u001b[0;32m     13\u001b[0m \u001b[0mcrime_data_2015\u001b[0m \u001b[1;33m=\u001b[0m \u001b[0mpd\u001b[0m\u001b[1;33m.\u001b[0m\u001b[0mread_csv\u001b[0m\u001b[1;33m(\u001b[0m\u001b[0mfile_2015\u001b[0m\u001b[1;33m)\u001b[0m\u001b[1;33m\u001b[0m\u001b[0m\n\u001b[0;32m     14\u001b[0m \u001b[0mcrime_data_2016\u001b[0m \u001b[1;33m=\u001b[0m \u001b[0mpd\u001b[0m\u001b[1;33m.\u001b[0m\u001b[0mread_csv\u001b[0m\u001b[1;33m(\u001b[0m\u001b[0mfile_2016\u001b[0m\u001b[1;33m)\u001b[0m\u001b[1;33m\u001b[0m\u001b[0m\n",
      "\u001b[1;32m~\\Anaconda3\\lib\\site-packages\\pandas\\io\\parsers.py\u001b[0m in \u001b[0;36mparser_f\u001b[1;34m(filepath_or_buffer, sep, delimiter, header, names, index_col, usecols, squeeze, prefix, mangle_dupe_cols, dtype, engine, converters, true_values, false_values, skipinitialspace, skiprows, nrows, na_values, keep_default_na, na_filter, verbose, skip_blank_lines, parse_dates, infer_datetime_format, keep_date_col, date_parser, dayfirst, iterator, chunksize, compression, thousands, decimal, lineterminator, quotechar, quoting, escapechar, comment, encoding, dialect, tupleize_cols, error_bad_lines, warn_bad_lines, skipfooter, doublequote, delim_whitespace, low_memory, memory_map, float_precision)\u001b[0m\n\u001b[0;32m    676\u001b[0m                     skip_blank_lines=skip_blank_lines)\n\u001b[0;32m    677\u001b[0m \u001b[1;33m\u001b[0m\u001b[0m\n\u001b[1;32m--> 678\u001b[1;33m         \u001b[1;32mreturn\u001b[0m \u001b[0m_read\u001b[0m\u001b[1;33m(\u001b[0m\u001b[0mfilepath_or_buffer\u001b[0m\u001b[1;33m,\u001b[0m \u001b[0mkwds\u001b[0m\u001b[1;33m)\u001b[0m\u001b[1;33m\u001b[0m\u001b[0m\n\u001b[0m\u001b[0;32m    679\u001b[0m \u001b[1;33m\u001b[0m\u001b[0m\n\u001b[0;32m    680\u001b[0m     \u001b[0mparser_f\u001b[0m\u001b[1;33m.\u001b[0m\u001b[0m__name__\u001b[0m \u001b[1;33m=\u001b[0m \u001b[0mname\u001b[0m\u001b[1;33m\u001b[0m\u001b[0m\n",
      "\u001b[1;32m~\\Anaconda3\\lib\\site-packages\\pandas\\io\\parsers.py\u001b[0m in \u001b[0;36m_read\u001b[1;34m(filepath_or_buffer, kwds)\u001b[0m\n\u001b[0;32m    438\u001b[0m \u001b[1;33m\u001b[0m\u001b[0m\n\u001b[0;32m    439\u001b[0m     \u001b[1;31m# Create the parser.\u001b[0m\u001b[1;33m\u001b[0m\u001b[1;33m\u001b[0m\u001b[0m\n\u001b[1;32m--> 440\u001b[1;33m     \u001b[0mparser\u001b[0m \u001b[1;33m=\u001b[0m \u001b[0mTextFileReader\u001b[0m\u001b[1;33m(\u001b[0m\u001b[0mfilepath_or_buffer\u001b[0m\u001b[1;33m,\u001b[0m \u001b[1;33m**\u001b[0m\u001b[0mkwds\u001b[0m\u001b[1;33m)\u001b[0m\u001b[1;33m\u001b[0m\u001b[0m\n\u001b[0m\u001b[0;32m    441\u001b[0m \u001b[1;33m\u001b[0m\u001b[0m\n\u001b[0;32m    442\u001b[0m     \u001b[1;32mif\u001b[0m \u001b[0mchunksize\u001b[0m \u001b[1;32mor\u001b[0m \u001b[0miterator\u001b[0m\u001b[1;33m:\u001b[0m\u001b[1;33m\u001b[0m\u001b[0m\n",
      "\u001b[1;32m~\\Anaconda3\\lib\\site-packages\\pandas\\io\\parsers.py\u001b[0m in \u001b[0;36m__init__\u001b[1;34m(self, f, engine, **kwds)\u001b[0m\n\u001b[0;32m    785\u001b[0m             \u001b[0mself\u001b[0m\u001b[1;33m.\u001b[0m\u001b[0moptions\u001b[0m\u001b[1;33m[\u001b[0m\u001b[1;34m'has_index_names'\u001b[0m\u001b[1;33m]\u001b[0m \u001b[1;33m=\u001b[0m \u001b[0mkwds\u001b[0m\u001b[1;33m[\u001b[0m\u001b[1;34m'has_index_names'\u001b[0m\u001b[1;33m]\u001b[0m\u001b[1;33m\u001b[0m\u001b[0m\n\u001b[0;32m    786\u001b[0m \u001b[1;33m\u001b[0m\u001b[0m\n\u001b[1;32m--> 787\u001b[1;33m         \u001b[0mself\u001b[0m\u001b[1;33m.\u001b[0m\u001b[0m_make_engine\u001b[0m\u001b[1;33m(\u001b[0m\u001b[0mself\u001b[0m\u001b[1;33m.\u001b[0m\u001b[0mengine\u001b[0m\u001b[1;33m)\u001b[0m\u001b[1;33m\u001b[0m\u001b[0m\n\u001b[0m\u001b[0;32m    788\u001b[0m \u001b[1;33m\u001b[0m\u001b[0m\n\u001b[0;32m    789\u001b[0m     \u001b[1;32mdef\u001b[0m \u001b[0mclose\u001b[0m\u001b[1;33m(\u001b[0m\u001b[0mself\u001b[0m\u001b[1;33m)\u001b[0m\u001b[1;33m:\u001b[0m\u001b[1;33m\u001b[0m\u001b[0m\n",
      "\u001b[1;32m~\\Anaconda3\\lib\\site-packages\\pandas\\io\\parsers.py\u001b[0m in \u001b[0;36m_make_engine\u001b[1;34m(self, engine)\u001b[0m\n\u001b[0;32m   1012\u001b[0m     \u001b[1;32mdef\u001b[0m \u001b[0m_make_engine\u001b[0m\u001b[1;33m(\u001b[0m\u001b[0mself\u001b[0m\u001b[1;33m,\u001b[0m \u001b[0mengine\u001b[0m\u001b[1;33m=\u001b[0m\u001b[1;34m'c'\u001b[0m\u001b[1;33m)\u001b[0m\u001b[1;33m:\u001b[0m\u001b[1;33m\u001b[0m\u001b[0m\n\u001b[0;32m   1013\u001b[0m         \u001b[1;32mif\u001b[0m \u001b[0mengine\u001b[0m \u001b[1;33m==\u001b[0m \u001b[1;34m'c'\u001b[0m\u001b[1;33m:\u001b[0m\u001b[1;33m\u001b[0m\u001b[0m\n\u001b[1;32m-> 1014\u001b[1;33m             \u001b[0mself\u001b[0m\u001b[1;33m.\u001b[0m\u001b[0m_engine\u001b[0m \u001b[1;33m=\u001b[0m \u001b[0mCParserWrapper\u001b[0m\u001b[1;33m(\u001b[0m\u001b[0mself\u001b[0m\u001b[1;33m.\u001b[0m\u001b[0mf\u001b[0m\u001b[1;33m,\u001b[0m \u001b[1;33m**\u001b[0m\u001b[0mself\u001b[0m\u001b[1;33m.\u001b[0m\u001b[0moptions\u001b[0m\u001b[1;33m)\u001b[0m\u001b[1;33m\u001b[0m\u001b[0m\n\u001b[0m\u001b[0;32m   1015\u001b[0m         \u001b[1;32melse\u001b[0m\u001b[1;33m:\u001b[0m\u001b[1;33m\u001b[0m\u001b[0m\n\u001b[0;32m   1016\u001b[0m             \u001b[1;32mif\u001b[0m \u001b[0mengine\u001b[0m \u001b[1;33m==\u001b[0m \u001b[1;34m'python'\u001b[0m\u001b[1;33m:\u001b[0m\u001b[1;33m\u001b[0m\u001b[0m\n",
      "\u001b[1;32m~\\Anaconda3\\lib\\site-packages\\pandas\\io\\parsers.py\u001b[0m in \u001b[0;36m__init__\u001b[1;34m(self, src, **kwds)\u001b[0m\n\u001b[0;32m   1706\u001b[0m         \u001b[0mkwds\u001b[0m\u001b[1;33m[\u001b[0m\u001b[1;34m'usecols'\u001b[0m\u001b[1;33m]\u001b[0m \u001b[1;33m=\u001b[0m \u001b[0mself\u001b[0m\u001b[1;33m.\u001b[0m\u001b[0musecols\u001b[0m\u001b[1;33m\u001b[0m\u001b[0m\n\u001b[0;32m   1707\u001b[0m \u001b[1;33m\u001b[0m\u001b[0m\n\u001b[1;32m-> 1708\u001b[1;33m         \u001b[0mself\u001b[0m\u001b[1;33m.\u001b[0m\u001b[0m_reader\u001b[0m \u001b[1;33m=\u001b[0m \u001b[0mparsers\u001b[0m\u001b[1;33m.\u001b[0m\u001b[0mTextReader\u001b[0m\u001b[1;33m(\u001b[0m\u001b[0msrc\u001b[0m\u001b[1;33m,\u001b[0m \u001b[1;33m**\u001b[0m\u001b[0mkwds\u001b[0m\u001b[1;33m)\u001b[0m\u001b[1;33m\u001b[0m\u001b[0m\n\u001b[0m\u001b[0;32m   1709\u001b[0m \u001b[1;33m\u001b[0m\u001b[0m\n\u001b[0;32m   1710\u001b[0m         \u001b[0mpassed_names\u001b[0m \u001b[1;33m=\u001b[0m \u001b[0mself\u001b[0m\u001b[1;33m.\u001b[0m\u001b[0mnames\u001b[0m \u001b[1;32mis\u001b[0m \u001b[1;32mNone\u001b[0m\u001b[1;33m\u001b[0m\u001b[0m\n",
      "\u001b[1;32mpandas\\_libs\\parsers.pyx\u001b[0m in \u001b[0;36mpandas._libs.parsers.TextReader.__cinit__\u001b[1;34m()\u001b[0m\n",
      "\u001b[1;32mpandas\\_libs\\parsers.pyx\u001b[0m in \u001b[0;36mpandas._libs.parsers.TextReader._setup_parser_source\u001b[1;34m()\u001b[0m\n",
      "\u001b[1;31mFileNotFoundError\u001b[0m: File b'austin_crime.csv' does not exist"
     ]
    }
   ],
   "source": [
    "# Dependencies and Setup\n",
    "import os\n",
    "import pandas as pd\n",
    "import numpy as np\n",
    "\n",
    "# Raw data file\n",
    "file_2014 = os.path.join('austin_crime.csv')\n",
    "file_2015 = os.path.join('Annual_Crime_Dataset_2015.csv')\n",
    "file_2016 = os.path.join('2016_Annual_Crime_Data.csv')\n",
    "\n",
    "# Read crime report files and store into pandas data frame\n",
    "crime_data_2014 = pd.read_csv(file_2014)\n",
    "crime_data_2015 = pd.read_csv(file_2015)\n",
    "crime_data_2016 = pd.read_csv(file_2016)"
   ]
  },
  {
   "cell_type": "code",
   "execution_count": null,
   "metadata": {},
   "outputs": [],
   "source": [
    "# Check original length of csv file rows\n",
    "print(len(crime_data_2014))\n",
    "print(\"-------------\")\n",
    "print(len(crime_data_2015))\n",
    "print(\"-------------\")\n",
    "print(len(crime_data_2016))"
   ]
  },
  {
   "cell_type": "code",
   "execution_count": 2,
   "metadata": {},
   "outputs": [
    {
     "ename": "NameError",
     "evalue": "name 'crime_data_2014' is not defined",
     "output_type": "error",
     "traceback": [
      "\u001b[1;31m---------------------------------------------------------------------------\u001b[0m",
      "\u001b[1;31mNameError\u001b[0m                                 Traceback (most recent call last)",
      "\u001b[1;32m<ipython-input-2-32a2ff43af3a>\u001b[0m in \u001b[0;36m<module>\u001b[1;34m()\u001b[0m\n\u001b[0;32m      1\u001b[0m \u001b[1;31m# Turn 2014 crime csv into dataframe and drop unneccessary columns\u001b[0m\u001b[1;33m\u001b[0m\u001b[1;33m\u001b[0m\u001b[0m\n\u001b[1;32m----> 2\u001b[1;33m \u001b[0mcrime_data_2014\u001b[0m \u001b[1;33m=\u001b[0m \u001b[0mpd\u001b[0m\u001b[1;33m.\u001b[0m\u001b[0mDataFrame\u001b[0m\u001b[1;33m(\u001b[0m\u001b[0mcrime_data_2014\u001b[0m\u001b[1;33m)\u001b[0m\u001b[1;33m\u001b[0m\u001b[0m\n\u001b[0m\u001b[0;32m      3\u001b[0m \u001b[0mcrime_data_2014\u001b[0m \u001b[1;33m=\u001b[0m \u001b[0mcrime_data_2014\u001b[0m\u001b[1;33m.\u001b[0m\u001b[0mdrop\u001b[0m\u001b[1;33m(\u001b[0m\u001b[1;34m\"latitude\"\u001b[0m\u001b[1;33m,\u001b[0m\u001b[0maxis\u001b[0m\u001b[1;33m=\u001b[0m\u001b[1;36m1\u001b[0m\u001b[1;33m)\u001b[0m\u001b[1;33m\u001b[0m\u001b[0m\n\u001b[0;32m      4\u001b[0m \u001b[0mcrime_data_2014\u001b[0m \u001b[1;33m=\u001b[0m \u001b[0mcrime_data_2014\u001b[0m\u001b[1;33m.\u001b[0m\u001b[0mdrop\u001b[0m\u001b[1;33m(\u001b[0m\u001b[1;34m\"location\"\u001b[0m\u001b[1;33m,\u001b[0m\u001b[0maxis\u001b[0m\u001b[1;33m=\u001b[0m\u001b[1;36m1\u001b[0m\u001b[1;33m)\u001b[0m\u001b[1;33m\u001b[0m\u001b[0m\n\u001b[0;32m      5\u001b[0m \u001b[0mcrime_data_2014\u001b[0m \u001b[1;33m=\u001b[0m \u001b[0mcrime_data_2014\u001b[0m\u001b[1;33m.\u001b[0m\u001b[0mdrop\u001b[0m\u001b[1;33m(\u001b[0m\u001b[1;34m\"longitude\"\u001b[0m\u001b[1;33m,\u001b[0m\u001b[0maxis\u001b[0m\u001b[1;33m=\u001b[0m\u001b[1;36m1\u001b[0m\u001b[1;33m)\u001b[0m\u001b[1;33m\u001b[0m\u001b[0m\n",
      "\u001b[1;31mNameError\u001b[0m: name 'crime_data_2014' is not defined"
     ]
    }
   ],
   "source": [
    "# Turn 2014 crime csv into dataframe and drop unneccessary columns\n",
    "crime_data_2014 = pd.DataFrame(crime_data_2014)\n",
    "crime_data_2014 = crime_data_2014.drop(\"latitude\",axis=1)\n",
    "crime_data_2014 = crime_data_2014.drop(\"location\",axis=1)\n",
    "crime_data_2014 = crime_data_2014.drop(\"longitude\",axis=1)\n",
    "crime_data_2014 = crime_data_2014.drop(\"census_tract\",axis=1)\n",
    "crime_data_2014 = crime_data_2014.drop(\"unique_key\",axis=1)\n",
    "crime_data_2014 = crime_data_2014.drop(\"zipcode\",axis=1)\n",
    "crime_data_2014 = crime_data_2014.drop(\"clearance_date\",axis=1)\n",
    "crime_data_2014 = crime_data_2014.drop(\"council_district_code\",axis=1)\n",
    "crime_data_2014 = crime_data_2014.drop(\"description\",axis=1)\n",
    "crime_data_2014 = crime_data_2014.drop(\"location_description\",axis=1)\n",
    "crime_data_2014 = crime_data_2014.drop(\"address\",axis=1)\n",
    "\n",
    "# Drop all rows containing no values\n",
    "crime_data_2014 = crime_data_2014.dropna()\n",
    "\n",
    "# Extract only 2014 data\n",
    "crime_data_2014 = crime_data_2014.drop(crime_data_2014[crime_data_2014.year == 2015.0].index)\n",
    "\n",
    "# Reorder columns\n",
    "crime_data_2014 = crime_data_2014[['primary_type', 'timestamp', 'clearance_status', 'district', 'x_coordinate', 'y_coordinate', 'year']]\n",
    "crime_data_2014.head()"
   ]
  },
  {
   "cell_type": "code",
   "execution_count": 3,
   "metadata": {},
   "outputs": [
    {
     "ename": "NameError",
     "evalue": "name 'crime_data_2014' is not defined",
     "output_type": "error",
     "traceback": [
      "\u001b[1;31m---------------------------------------------------------------------------\u001b[0m",
      "\u001b[1;31mNameError\u001b[0m                                 Traceback (most recent call last)",
      "\u001b[1;32m<ipython-input-3-4394606de42f>\u001b[0m in \u001b[0;36m<module>\u001b[1;34m()\u001b[0m\n\u001b[0;32m      1\u001b[0m \u001b[1;31m# Edit timestamp column to show only month\u001b[0m\u001b[1;33m\u001b[0m\u001b[1;33m\u001b[0m\u001b[0m\n\u001b[1;32m----> 2\u001b[1;33m \u001b[0mcrime_data_2014\u001b[0m\u001b[1;33m[\u001b[0m\u001b[1;34m'timestamp'\u001b[0m\u001b[1;33m]\u001b[0m \u001b[1;33m=\u001b[0m \u001b[0mcrime_data_2014\u001b[0m\u001b[1;33m[\u001b[0m\u001b[1;34m'timestamp'\u001b[0m\u001b[1;33m]\u001b[0m\u001b[1;33m.\u001b[0m\u001b[0mmap\u001b[0m\u001b[1;33m(\u001b[0m\u001b[1;32mlambda\u001b[0m \u001b[0mx\u001b[0m\u001b[1;33m:\u001b[0m \u001b[0mstr\u001b[0m\u001b[1;33m(\u001b[0m\u001b[0mx\u001b[0m\u001b[1;33m)\u001b[0m\u001b[1;33m[\u001b[0m\u001b[1;36m5\u001b[0m\u001b[1;33m:\u001b[0m\u001b[1;36m7\u001b[0m\u001b[1;33m]\u001b[0m\u001b[1;33m)\u001b[0m\u001b[1;33m\u001b[0m\u001b[0m\n\u001b[0m\u001b[0;32m      3\u001b[0m \u001b[0mcrime_data_2014\u001b[0m\u001b[1;33m.\u001b[0m\u001b[0mhead\u001b[0m\u001b[1;33m(\u001b[0m\u001b[1;33m)\u001b[0m\u001b[1;33m\u001b[0m\u001b[0m\n",
      "\u001b[1;31mNameError\u001b[0m: name 'crime_data_2014' is not defined"
     ]
    }
   ],
   "source": [
    "# Edit timestamp column to show only month\n",
    "crime_data_2014['timestamp'] = crime_data_2014['timestamp'].map(lambda x: str(x)[5:7])\n",
    "crime_data_2014.head()"
   ]
  },
  {
   "cell_type": "code",
   "execution_count": 5,
   "metadata": {},
   "outputs": [
    {
     "data": {
      "text/html": [
       "<div>\n",
       "<style scoped>\n",
       "    .dataframe tbody tr th:only-of-type {\n",
       "        vertical-align: middle;\n",
       "    }\n",
       "\n",
       "    .dataframe tbody tr th {\n",
       "        vertical-align: top;\n",
       "    }\n",
       "\n",
       "    .dataframe thead th {\n",
       "        text-align: right;\n",
       "    }\n",
       "</style>\n",
       "<table border=\"1\" class=\"dataframe\">\n",
       "  <thead>\n",
       "    <tr style=\"text-align: right;\">\n",
       "      <th></th>\n",
       "      <th>primary_type</th>\n",
       "      <th>timestamp</th>\n",
       "      <th>clearance_status</th>\n",
       "      <th>district</th>\n",
       "      <th>x_coordinate</th>\n",
       "      <th>y_coordinate</th>\n",
       "      <th>year</th>\n",
       "    </tr>\n",
       "  </thead>\n",
       "  <tbody>\n",
       "    <tr>\n",
       "      <th>4</th>\n",
       "      <td>Theft: Shoplifting</td>\n",
       "      <td>04</td>\n",
       "      <td>C</td>\n",
       "      <td>B</td>\n",
       "      <td>3121345.0</td>\n",
       "      <td>10082705.0</td>\n",
       "      <td>2014.0</td>\n",
       "    </tr>\n",
       "    <tr>\n",
       "      <th>9</th>\n",
       "      <td>Auto Theft</td>\n",
       "      <td>04</td>\n",
       "      <td>N</td>\n",
       "      <td>C</td>\n",
       "      <td>3118304.0</td>\n",
       "      <td>10072414.0</td>\n",
       "      <td>2014.0</td>\n",
       "    </tr>\n",
       "    <tr>\n",
       "      <th>14</th>\n",
       "      <td>Theft: All Other Larceny</td>\n",
       "      <td>05</td>\n",
       "      <td>N</td>\n",
       "      <td>H</td>\n",
       "      <td>3125886.0</td>\n",
       "      <td>10047276.0</td>\n",
       "      <td>2014.0</td>\n",
       "    </tr>\n",
       "    <tr>\n",
       "      <th>17</th>\n",
       "      <td>Auto Theft</td>\n",
       "      <td>12</td>\n",
       "      <td>N</td>\n",
       "      <td>C</td>\n",
       "      <td>3125976.0</td>\n",
       "      <td>10072207.0</td>\n",
       "      <td>2014.0</td>\n",
       "    </tr>\n",
       "    <tr>\n",
       "      <th>20</th>\n",
       "      <td>Theft: All Other Larceny</td>\n",
       "      <td>04</td>\n",
       "      <td>N</td>\n",
       "      <td>B</td>\n",
       "      <td>3117183.0</td>\n",
       "      <td>10103211.0</td>\n",
       "      <td>2014.0</td>\n",
       "    </tr>\n",
       "  </tbody>\n",
       "</table>\n",
       "</div>"
      ],
      "text/plain": [
       "                primary_type timestamp clearance_status district  \\\n",
       "4         Theft: Shoplifting        04                C        B   \n",
       "9                 Auto Theft        04                N        C   \n",
       "14  Theft: All Other Larceny        05                N        H   \n",
       "17                Auto Theft        12                N        C   \n",
       "20  Theft: All Other Larceny        04                N        B   \n",
       "\n",
       "    x_coordinate  y_coordinate    year  \n",
       "4      3121345.0    10082705.0  2014.0  \n",
       "9      3118304.0    10072414.0  2014.0  \n",
       "14     3125886.0    10047276.0  2014.0  \n",
       "17     3125976.0    10072207.0  2014.0  \n",
       "20     3117183.0    10103211.0  2014.0  "
      ]
     },
     "execution_count": 5,
     "metadata": {},
     "output_type": "execute_result"
    }
   ],
   "source": [
    "# Edit clearance status to display only first character\n",
    "crime_data_2014['clearance_status'] = crime_data_2014['clearance_status'].map(lambda x: str(x)[0:1])\n",
    "crime_data_2014.head()"
   ]
  },
  {
   "cell_type": "code",
   "execution_count": 6,
   "metadata": {},
   "outputs": [],
   "source": [
    "crime_data_2014['primary_type_cleaned'] = crime_data_2014['primary_type']"
   ]
  },
  {
   "cell_type": "code",
   "execution_count": 7,
   "metadata": {},
   "outputs": [
    {
     "data": {
      "text/html": [
       "<div>\n",
       "<style scoped>\n",
       "    .dataframe tbody tr th:only-of-type {\n",
       "        vertical-align: middle;\n",
       "    }\n",
       "\n",
       "    .dataframe tbody tr th {\n",
       "        vertical-align: top;\n",
       "    }\n",
       "\n",
       "    .dataframe thead th {\n",
       "        text-align: right;\n",
       "    }\n",
       "</style>\n",
       "<table border=\"1\" class=\"dataframe\">\n",
       "  <thead>\n",
       "    <tr style=\"text-align: right;\">\n",
       "      <th></th>\n",
       "      <th>primary_type</th>\n",
       "      <th>timestamp</th>\n",
       "      <th>clearance_status</th>\n",
       "      <th>district</th>\n",
       "      <th>x_coordinate</th>\n",
       "      <th>y_coordinate</th>\n",
       "      <th>year</th>\n",
       "    </tr>\n",
       "  </thead>\n",
       "  <tbody>\n",
       "    <tr>\n",
       "      <th>4</th>\n",
       "      <td>Theft</td>\n",
       "      <td>04</td>\n",
       "      <td>C</td>\n",
       "      <td>B</td>\n",
       "      <td>3121345.0</td>\n",
       "      <td>10082705.0</td>\n",
       "      <td>2014.0</td>\n",
       "    </tr>\n",
       "    <tr>\n",
       "      <th>9</th>\n",
       "      <td>Auto Theft</td>\n",
       "      <td>04</td>\n",
       "      <td>N</td>\n",
       "      <td>C</td>\n",
       "      <td>3118304.0</td>\n",
       "      <td>10072414.0</td>\n",
       "      <td>2014.0</td>\n",
       "    </tr>\n",
       "    <tr>\n",
       "      <th>14</th>\n",
       "      <td>Theft</td>\n",
       "      <td>05</td>\n",
       "      <td>N</td>\n",
       "      <td>H</td>\n",
       "      <td>3125886.0</td>\n",
       "      <td>10047276.0</td>\n",
       "      <td>2014.0</td>\n",
       "    </tr>\n",
       "    <tr>\n",
       "      <th>17</th>\n",
       "      <td>Auto Theft</td>\n",
       "      <td>12</td>\n",
       "      <td>N</td>\n",
       "      <td>C</td>\n",
       "      <td>3125976.0</td>\n",
       "      <td>10072207.0</td>\n",
       "      <td>2014.0</td>\n",
       "    </tr>\n",
       "    <tr>\n",
       "      <th>20</th>\n",
       "      <td>Theft</td>\n",
       "      <td>04</td>\n",
       "      <td>N</td>\n",
       "      <td>B</td>\n",
       "      <td>3117183.0</td>\n",
       "      <td>10103211.0</td>\n",
       "      <td>2014.0</td>\n",
       "    </tr>\n",
       "  </tbody>\n",
       "</table>\n",
       "</div>"
      ],
      "text/plain": [
       "   primary_type timestamp clearance_status district  x_coordinate  \\\n",
       "4         Theft        04                C        B     3121345.0   \n",
       "9    Auto Theft        04                N        C     3118304.0   \n",
       "14        Theft        05                N        H     3125886.0   \n",
       "17   Auto Theft        12                N        C     3125976.0   \n",
       "20        Theft        04                N        B     3117183.0   \n",
       "\n",
       "    y_coordinate    year  \n",
       "4     10082705.0  2014.0  \n",
       "9     10072414.0  2014.0  \n",
       "14    10047276.0  2014.0  \n",
       "17    10072207.0  2014.0  \n",
       "20    10103211.0  2014.0  "
      ]
     },
     "execution_count": 7,
     "metadata": {},
     "output_type": "execute_result"
    }
   ],
   "source": [
    "import re\n",
    "regex_pat = re.compile(r'^Theft:.*$', flags=re.IGNORECASE)\n",
    "crime_data_2014[\"primary_type_cleaned\"].replace(regex_pat, \"Theft\", inplace=True)\n",
    "\n",
    "crime_data_2014[\"primary_type\"] = crime_data_2014[\"primary_type_cleaned\"]\n",
    "crime_data_2014 = crime_data_2014.drop(\"primary_type_cleaned\",axis=1)\n",
    "crime_data_2014.head()"
   ]
  },
  {
   "cell_type": "code",
   "execution_count": 8,
   "metadata": {},
   "outputs": [
    {
     "data": {
      "text/plain": [
       "D     4701\n",
       "E     4437\n",
       "F     3974\n",
       "A     3835\n",
       "I     3745\n",
       "B     3673\n",
       "H     3387\n",
       "G     2603\n",
       "C     2531\n",
       "AP     110\n",
       "Name: district, dtype: int64"
      ]
     },
     "execution_count": 8,
     "metadata": {},
     "output_type": "execute_result"
    }
   ],
   "source": [
    "crime_data_2014[\"district\"].value_counts()"
   ]
  },
  {
   "cell_type": "code",
   "execution_count": 9,
   "metadata": {},
   "outputs": [
    {
     "data": {
      "text/plain": [
       "07    3000\n",
       "08    2942\n",
       "10    2915\n",
       "05    2822\n",
       "03    2761\n",
       "09    2756\n",
       "01    2750\n",
       "06    2711\n",
       "04    2667\n",
       "12    2642\n",
       "11    2602\n",
       "02    2428\n",
       "Name: timestamp, dtype: int64"
      ]
     },
     "execution_count": 9,
     "metadata": {},
     "output_type": "execute_result"
    }
   ],
   "source": [
    "crime_data_2014[\"timestamp\"].value_counts()"
   ]
  },
  {
   "cell_type": "code",
   "execution_count": 10,
   "metadata": {},
   "outputs": [
    {
     "data": {
      "text/plain": [
       "Theft                                           28143\n",
       "Auto Theft                                       2162\n",
       "Aggravated Assault                               1827\n",
       "Robbery                                           839\n",
       "Homicide: Murder & Nonnegligent Manslaughter       25\n",
       "Name: primary_type, dtype: int64"
      ]
     },
     "execution_count": 10,
     "metadata": {},
     "output_type": "execute_result"
    }
   ],
   "source": [
    "crime_data_2014[\"primary_type\"].value_counts()"
   ]
  },
  {
   "cell_type": "code",
   "execution_count": 11,
   "metadata": {},
   "outputs": [
    {
     "data": {
      "text/plain": [
       "32996"
      ]
     },
     "execution_count": 11,
     "metadata": {},
     "output_type": "execute_result"
    }
   ],
   "source": [
    "# Check length of set\n",
    "len(crime_data_2014)"
   ]
  },
  {
   "cell_type": "code",
   "execution_count": 12,
   "metadata": {},
   "outputs": [],
   "source": [
    "# Turn 2015 and 2016 crime csv into dataframes and drop unneccessary columns\n",
    "crime_data_2015 = pd.DataFrame(crime_data_2015)\n",
    "crime_data_2016 = pd.DataFrame(crime_data_2016)\n",
    "\n",
    "crime_data_2015 = crime_data_2015.drop(\"GO Primary Key\",axis=1)\n",
    "crime_data_2016 = crime_data_2016.drop(\"GO Primary Key\",axis=1)\n",
    "\n",
    "crime_data_2015 = crime_data_2015.drop(\"GO Highest Offense Desc\",axis=1)\n",
    "crime_data_2016 = crime_data_2016.drop(\"GO Highest Offense Desc\",axis=1)\n",
    "\n",
    "crime_data_2015 = crime_data_2015.drop(\"Clearance Date\",axis=1)\n",
    "crime_data_2016 = crime_data_2016.drop(\"Clearance Date\",axis=1)\n",
    "\n",
    "crime_data_2015 = crime_data_2015.drop(\"GO Location Zip\",axis=1)\n",
    "crime_data_2016 = crime_data_2016.drop(\"GO Location Zip\",axis=1)\n",
    "\n",
    "crime_data_2015 = crime_data_2015.drop(\"GO Location\",axis=1)\n",
    "crime_data_2016 = crime_data_2016.drop(\"GO Location\",axis=1)\n",
    "\n",
    "crime_data_2015 = crime_data_2015.drop(\"GO Census Tract\",axis=1)\n",
    "crime_data_2016 = crime_data_2016.drop(\"GO Census Tract\",axis=1)\n",
    "\n",
    "crime_data_2015 = crime_data_2015.drop(\"Council District\",axis=1)\n",
    "crime_data_2016 = crime_data_2016.drop(\"Council District\",axis=1)\n",
    "\n",
    "# Drop all rows containing no values\n",
    "crime_data_2015 = crime_data_2015.dropna()\n",
    "crime_data_2016 = crime_data_2016.dropna()"
   ]
  },
  {
   "cell_type": "code",
   "execution_count": 13,
   "metadata": {},
   "outputs": [],
   "source": [
    "# Rename columns for merge\n",
    "crime_data_2015.columns = ['primary_type', 'timestamp', 'clearance_status', 'district', 'x_coordinate', 'y_coordinate']\n",
    "\n",
    "# Add year column\n",
    "crime_data_2015['year'] = 2015.0"
   ]
  },
  {
   "cell_type": "code",
   "execution_count": 14,
   "metadata": {},
   "outputs": [
    {
     "name": "stderr",
     "output_type": "stream",
     "text": [
      "/Users/alnunu/anaconda3/envs/pythonData/lib/python3.6/site-packages/ipykernel_launcher.py:5: FutureWarning: set_value is deprecated and will be removed in a future release. Please use .at[] or .iat[] accessors instead\n",
      "  \"\"\"\n"
     ]
    }
   ],
   "source": [
    "# Edit timestamp column to show only month\n",
    "for index, row in crime_data_2015.iterrows():\n",
    "    split = row['timestamp']\n",
    "    split = split.split('-')[1]\n",
    "    crime_data_2015.set_value(index, 'timestamp', split)"
   ]
  },
  {
   "cell_type": "code",
   "execution_count": 15,
   "metadata": {},
   "outputs": [
    {
     "data": {
      "text/plain": [
       "Theft          26624\n",
       "Burglary        4846\n",
       "Auto Theft      1982\n",
       "Agg Assault     1829\n",
       "Robbery          826\n",
       "Murder            18\n",
       "Name: primary_type, dtype: int64"
      ]
     },
     "execution_count": 15,
     "metadata": {},
     "output_type": "execute_result"
    }
   ],
   "source": [
    "crime_data_2015[\"primary_type\"].value_counts()"
   ]
  },
  {
   "cell_type": "code",
   "execution_count": 16,
   "metadata": {},
   "outputs": [
    {
     "data": {
      "text/plain": [
       "D     5226\n",
       "E     4719\n",
       "B     4691\n",
       "F     4422\n",
       "I     4118\n",
       "A     3950\n",
       "H     3508\n",
       "C     2747\n",
       "G     2577\n",
       "AP     166\n",
       "Name: district, dtype: int64"
      ]
     },
     "execution_count": 16,
     "metadata": {},
     "output_type": "execute_result"
    }
   ],
   "source": [
    "crime_data_2015 = crime_data_2015[crime_data_2015.district != \"UK\"]\n",
    "crime_data_2015[\"district\"].value_counts()"
   ]
  },
  {
   "cell_type": "code",
   "execution_count": 17,
   "metadata": {},
   "outputs": [
    {
     "data": {
      "text/plain": [
       "Jul    3311\n",
       "Aug    3153\n",
       "May    3129\n",
       "Jun    3060\n",
       "Apr    3019\n",
       "Mar    3016\n",
       "Dec    2973\n",
       "Sep    2961\n",
       "Jan    2949\n",
       "Nov    2908\n",
       "Oct    2887\n",
       "Feb    2758\n",
       "Name: timestamp, dtype: int64"
      ]
     },
     "execution_count": 17,
     "metadata": {},
     "output_type": "execute_result"
    }
   ],
   "source": [
    "crime_data_2015[\"timestamp\"].value_counts()"
   ]
  },
  {
   "cell_type": "code",
   "execution_count": 18,
   "metadata": {},
   "outputs": [],
   "source": [
    "# Rename columns for merge\n",
    "crime_data_2016.columns = ['primary_type', 'timestamp', 'clearance_status', 'district', 'x_coordinate', 'y_coordinate']\n",
    "\n",
    "# Add year column\n",
    "crime_data_2016[\"year\"] = 2016.0"
   ]
  },
  {
   "cell_type": "code",
   "execution_count": 19,
   "metadata": {},
   "outputs": [
    {
     "name": "stderr",
     "output_type": "stream",
     "text": [
      "/Users/alnunu/anaconda3/envs/pythonData/lib/python3.6/site-packages/ipykernel_launcher.py:5: FutureWarning: set_value is deprecated and will be removed in a future release. Please use .at[] or .iat[] accessors instead\n",
      "  \"\"\"\n"
     ]
    }
   ],
   "source": [
    "# Edit timestamp column to show only month\n",
    "for index, row in crime_data_2016.iterrows():\n",
    "    split = row['timestamp']\n",
    "    split = split.split('-')[1]\n",
    "    crime_data_2016.set_value(index, 'timestamp', split)"
   ]
  },
  {
   "cell_type": "code",
   "execution_count": 20,
   "metadata": {},
   "outputs": [
    {
     "data": {
      "text/plain": [
       "Jan    3069\n",
       "Mar    3064\n",
       "Apr    3014\n",
       "Oct    3007\n",
       "Jun    2975\n",
       "May    2926\n",
       "Sep    2881\n",
       "Dec    2876\n",
       "Nov    2854\n",
       "Aug    2830\n",
       "Jul    2801\n",
       "Feb    2676\n",
       "Name: timestamp, dtype: int64"
      ]
     },
     "execution_count": 20,
     "metadata": {},
     "output_type": "execute_result"
    }
   ],
   "source": [
    "crime_data_2016[\"timestamp\"].value_counts()"
   ]
  },
  {
   "cell_type": "code",
   "execution_count": 21,
   "metadata": {},
   "outputs": [
    {
     "data": {
      "text/plain": [
       "D     5083\n",
       "E     4409\n",
       "F     4172\n",
       "B     4159\n",
       "I     4065\n",
       "H     3957\n",
       "A     3793\n",
       "C     2653\n",
       "G     2518\n",
       "AP     154\n",
       "Name: district, dtype: int64"
      ]
     },
     "execution_count": 21,
     "metadata": {},
     "output_type": "execute_result"
    }
   ],
   "source": [
    "crime_data_2016 = crime_data_2016[crime_data_2016.district != \"88\"]\n",
    "crime_data_2016 = crime_data_2016[crime_data_2016.district != \"UK\"]\n",
    "crime_data_2016[\"district\"].value_counts()"
   ]
  },
  {
   "cell_type": "code",
   "execution_count": 22,
   "metadata": {},
   "outputs": [
    {
     "data": {
      "text/plain": [
       "Theft          24907\n",
       "Burglary        5036\n",
       "Agg Assault     2090\n",
       "Auto Theft      1989\n",
       "Robbery          911\n",
       "Murder            30\n",
       "Name: primary_type, dtype: int64"
      ]
     },
     "execution_count": 22,
     "metadata": {},
     "output_type": "execute_result"
    }
   ],
   "source": [
    "crime_data_2016[\"primary_type\"].value_counts()"
   ]
  },
  {
   "cell_type": "code",
   "execution_count": 23,
   "metadata": {},
   "outputs": [
    {
     "data": {
      "text/plain": [
       "36124"
      ]
     },
     "execution_count": 23,
     "metadata": {},
     "output_type": "execute_result"
    }
   ],
   "source": [
    "# Check length of set\n",
    "len(crime_data_2015)"
   ]
  },
  {
   "cell_type": "code",
   "execution_count": 24,
   "metadata": {},
   "outputs": [
    {
     "data": {
      "text/plain": [
       "34963"
      ]
     },
     "execution_count": 24,
     "metadata": {},
     "output_type": "execute_result"
    }
   ],
   "source": [
    "# Check length of set\n",
    "len(crime_data_2016)"
   ]
  },
  {
   "cell_type": "code",
   "execution_count": 25,
   "metadata": {},
   "outputs": [],
   "source": [
    "output_data_file_2014 = \"clean_csvs/crime_2014.csv\"\n",
    "output_data_file_2015 = \"clean_csvs/crime_2015.csv\"\n",
    "output_data_file_2016 = \"clean_csvs/crime_2016.csv\""
   ]
  },
  {
   "cell_type": "code",
   "execution_count": 5,
   "metadata": {},
   "outputs": [
    {
     "ename": "NameError",
     "evalue": "name 'crime_data_2014' is not defined",
     "output_type": "error",
     "traceback": [
      "\u001b[1;31m---------------------------------------------------------------------------\u001b[0m",
      "\u001b[1;31mNameError\u001b[0m                                 Traceback (most recent call last)",
      "\u001b[1;32m<ipython-input-5-5b2c17d7b4ed>\u001b[0m in \u001b[0;36m<module>\u001b[1;34m()\u001b[0m\n\u001b[1;32m----> 1\u001b[1;33m \u001b[0mcrime_data_2014\u001b[0m\u001b[1;33m.\u001b[0m\u001b[0mto_csv\u001b[0m\u001b[1;33m(\u001b[0m\u001b[0moutput_data_file_2014\u001b[0m\u001b[1;33m)\u001b[0m\u001b[1;33m\u001b[0m\u001b[0m\n\u001b[0m\u001b[0;32m      2\u001b[0m \u001b[0mcrime_data_2015\u001b[0m\u001b[1;33m.\u001b[0m\u001b[0mto_csv\u001b[0m\u001b[1;33m(\u001b[0m\u001b[0moutput_data_file_2015\u001b[0m\u001b[1;33m)\u001b[0m\u001b[1;33m\u001b[0m\u001b[0m\n\u001b[0;32m      3\u001b[0m \u001b[0mcrime_data_2016\u001b[0m\u001b[1;33m.\u001b[0m\u001b[0mto_csv\u001b[0m\u001b[1;33m(\u001b[0m\u001b[0moutput_data_file_2016\u001b[0m\u001b[1;33m)\u001b[0m\u001b[1;33m\u001b[0m\u001b[0m\n",
      "\u001b[1;31mNameError\u001b[0m: name 'crime_data_2014' is not defined"
     ]
    }
   ],
   "source": [
    "crime_data_2014.to_csv(output_data_file_2014)\n",
    "crime_data_2015.to_csv(output_data_file_2015)\n",
    "crime_data_2016.to_csv(output_data_file_2016)"
   ]
  },
  {
   "cell_type": "code",
   "execution_count": null,
   "metadata": {},
   "outputs": [],
   "source": [
    "incident_type_2014 = ['Theft','Auto\\nTheft', 'Aggravated\\nAssault', 'Robbery', 'Homicide']\n",
    "values = [28143, 2162, 1827, 839, 25]\n",
    "colors = [\"Black\", \"red\", \"yellow\", \"purple\",\"orange\"]\n",
    "#plt.legend(incident_type_2014, title=\"INCIDENT TYPES\",loc=\"upper right\")\n",
    "plt.title(\"AUSTIN INCIDENTS IN 2014\",bbox={'facecolor':'15', 'pad':8})\n",
    "pie=plt.pie(values,labels=incident_type_2014, colors=colors,\n",
    "         autopct=\"%0.1f%%\", shadow=True, startangle=175, pctdistance=0.5,\n",
    "        labeldistance=1.2,radius=0.8,textprops={\"color\":\"b\"},wedgeprops = { 'linewidth': 1, \"edgecolor\" :\"k\" })\n",
    "plt.legend(pie[0],incident_type_2014, bbox_to_anchor=(1,0.5), loc=\"right\",bbox_transform=plt.gcf().transFigure)\n",
    "plt.axis(\"equal\")\n",
    "plt.show()"
   ]
  }
 ],
 "metadata": {
  "kernelspec": {
   "display_name": "PythonData",
   "language": "python",
   "name": "pythondata"
  },
  "language_info": {
   "codemirror_mode": {
    "name": "ipython",
    "version": 3
   },
   "file_extension": ".py",
   "mimetype": "text/x-python",
   "name": "python",
   "nbconvert_exporter": "python",
   "pygments_lexer": "ipython3",
   "version": "3.6.5"
  }
 },
 "nbformat": 4,
 "nbformat_minor": 2
}
